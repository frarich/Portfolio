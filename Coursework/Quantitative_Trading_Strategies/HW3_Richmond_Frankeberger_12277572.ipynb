{
 "cells": [
  {
   "cell_type": "markdown",
   "id": "37385d78",
   "metadata": {},
   "source": [
    "## Homework: Financial Ratio Quantile Strategies"
   ]
  },
  {
   "cell_type": "markdown",
   "id": "038a423a",
   "metadata": {},
   "source": [
    "========================================================================================================================"
   ]
  },
  {
   "cell_type": "markdown",
   "id": "b15b30ab",
   "metadata": {},
   "source": [
    "### Richmond Frankeberger 12277572 "
   ]
  },
  {
   "cell_type": "markdown",
   "id": "89bb4e1c",
   "metadata": {},
   "source": [
    "========================================================================================================================"
   ]
  },
  {
   "cell_type": "markdown",
   "id": "de8a9cd9",
   "metadata": {},
   "source": [
    "### Defining Data"
   ]
  },
  {
   "cell_type": "markdown",
   "id": "4bc18da6",
   "metadata": {},
   "source": [
    "#### Scope"
   ]
  },
  {
   "cell_type": "markdown",
   "id": "21d79161",
   "metadata": {},
   "source": [
    "At least 200 tickers will be chosen, given:\n",
    "\n",
    "• end-of-day adjusted closing prices are available , over the entire period\n",
    "Jan 2014 through Jan 2021\n",
    "\n",
    "• debt/market cap ratio is greater than 0.1 somewhere in the period Jan\n",
    "2014 through Jan 2021 \n",
    "\n",
    "• not in the automotive, financial or insurance sector , over the entire\n",
    "period Jan 2014 through Jan 2021\n",
    "\n",
    "• has feasible calculation of the ratios specified below , over the entire period Jan 2014 through Jan 2021, including for at least one\n",
    "PER END DATE no more than one year old. Debt ratio of zero is OK."
   ]
  },
  {
   "cell_type": "markdown",
   "id": "f4e3b0ab",
   "metadata": {},
   "source": [
    "#### Financial Ratio Formulas"
   ]
  },
  {
   "cell_type": "markdown",
   "id": "85d175ce",
   "metadata": {},
   "source": [
    "debt to market cap: $\\frac{D}{E} = \\text{FR/TOT_DEBT_TOT_EQUITY}$\n",
    "\n",
    "return on investment: $ROI = \\frac{\\text{FR/RET_INVEST}}{\\text{MKTV/MKT_VAL}+\\text{FC/NET_LTERM_DEBT}} \\cdot(\\text{MKTV/MKT_VAL}+\\text{FC/TOT_LTERM_DEBT})$\n",
    ", or simply $\\text{FR/RET_INVEST}$ if  $\\text{FC/NET_LTERM_DEBT}$ is unavailable.\n",
    "\n",
    "price to earnings: $\\frac{P}{E} = \\frac{\\frac{\\text{MKTV/MKT_VAL}}{\\text{SHRS/SHARES_OUT}}}{\\text{FC/EPS_DILUTED_NET}}$, or $ \\frac{\\frac{\\text{MKTV/MKT_VAL}}{\\text{SHRS/SHARES_OUT}}}{\\text{FC/BASIC_NET_EPS}}$ if unavailable. "
   ]
  },
  {
   "cell_type": "markdown",
   "id": "7b1afd5d",
   "metadata": {},
   "source": [
    "========================================================================================================================"
   ]
  },
  {
   "cell_type": "markdown",
   "id": "5280218a",
   "metadata": {},
   "source": [
    "#### Imports, Functions, and Data Download"
   ]
  },
  {
   "cell_type": "code",
   "execution_count": 1,
   "id": "dab1b18c",
   "metadata": {},
   "outputs": [],
   "source": [
    "%matplotlib inline\n",
    "from   matplotlib                import pyplot as plt\n",
    "from   urllib.request            import urlretrieve\n",
    "import matplotlib.ticker         as     ticker\n",
    "import pandas                    as     pd\n",
    "import numpy                     as     np\n",
    "import seaborn                   as     sns\n",
    "import statsmodels.api           as     sm\n",
    "import quandl\n",
    "import scipy\n",
    "import sys\n",
    "import requests\n",
    "import time\n",
    "quandl.ApiConfig.api_key         =      \"hJrpPb7hMqbAvC9tkQZy\""
   ]
  },
  {
   "cell_type": "code",
   "execution_count": 2,
   "id": "49224d96",
   "metadata": {},
   "outputs": [],
   "source": [
    "### Download available ticker universe\n",
    "all_symbols    = pd.read_csv('http://static.quandl.com/zacks/zacks-tickers.csv', names=['Symbol', 'Name'])[['Symbol']]['Symbol'].tolist()\n",
    "\n",
    "### Identify sectors to exclude: 5 = Auto-Tires-Trucks, 13 = Finance\n",
    "ex_sectors     = [5, 13]\n",
    "\n",
    "### Declare variables\n",
    "period         = ['2014-01-02','2021-01-29']\n",
    "fiscal_check   = '2013-09-30'\n",
    "fiscal_last    = '2021-03-31'"
   ]
  },
  {
   "cell_type": "code",
   "execution_count": 3,
   "id": "9f5e9de3",
   "metadata": {},
   "outputs": [],
   "source": [
    "### Provides basic statistics for a given dataset.\n",
    "### Arguments: data: pass a dataframe q: level of significance for VaR/Shortfall\n",
    "def statistics(data, q):\n",
    "    df                                        = data.copy()\n",
    "    df.index                                  = data.index.date\n",
    "    report                                    = pd.DataFrame(columns = df.columns)\n",
    "    report.loc['Mean']                        = df.mean()\n",
    "    report.loc['Median']                      = df.median()\n",
    "    report.loc['Min']                         = df.min()\n",
    "    report.loc['25% Quantile']                = df.quantile(0.25)\n",
    "    report.loc['75% Quantile']                = df.quantile(0.75)\n",
    "    report.loc['Max']                         = df.max()\n",
    "    report.loc[r'$\\sigma$']                   = df.std()\n",
    "    report.loc['Skewness']                    = df.skew()\n",
    "    report.loc['Excess Kurtosis']             = df.kurtosis()\n",
    "    report.loc['VaR (Quantile {})'.format(q)] = df.quantile(q)\n",
    "    report.loc['VaR (Normal)']                = df.mean() + scipy.stats.norm().ppf(q) * df.std()\n",
    "    #report.loc['Expected Shortfall']          = df[df     < df.quantile(q)].mean()\n",
    "    #report.loc['Expected Shortfall (Normal)'] = df.mean() - scipy.stats.norm.pdf((scipy.stats.norm().ppf(q)))/q * df.std()\n",
    "    \n",
    "    return round(report,4)\n",
    "\n",
    "### Use to calculate Skewness, Excess Kurtosis, VaR(q), CVaR(q), MMD, MMD Start, MMD End, MMD Recovery\n",
    "### Don't need to annualize\n",
    "def tail_risk_report(data, q, returns=True):\n",
    "    df                                           = data.copy()\n",
    "    df.index                                     = data.index.date\n",
    "    report                                       = pd.DataFrame(columns = df.columns)\n",
    "    \n",
    "    #report.loc['Skewness']                       = df.skew()\n",
    "    #report.loc['Excess Kurtosis']                = df.kurtosis()\n",
    "    #report.loc['VaR (Quantile {})'.format(q)]    = df.quantile(q)\n",
    "    #report.loc['VaR (Normal)']                   = df.mean() + scipy.stats.norm().ppf(q) * df.std()\n",
    "    report.loc['Expected Shortfall']             = df[df < df.quantile(q)].mean()\n",
    "    report.loc['Expected Shortfall (Normal)']    = df.mean() - scipy.stats.norm.pdf((scipy.stats.norm().ppf(q)))/q * df.std()\n",
    "    \n",
    "    if returns == True:\n",
    "        cum_ret                                  = (1 + df).cumprod()\n",
    "        rolling_max                              = cum_ret.cummax()\n",
    "        drawdown                                 = (cum_ret - rolling_max) / rolling_max\n",
    "    else:\n",
    "        cum_ret                                  = df.cumsum()\n",
    "        rolling_max                              = cum_ret.cummax()\n",
    "        drawdown                                 = (cum_ret - rolling_max)\n",
    "         \n",
    "    report.loc['Max Drawdown']                   = drawdown.min()\n",
    "    report.loc['MDD Start']                      = None\n",
    "    report.loc['MDD End']                        = drawdown.idxmin()\n",
    "    report.loc['Recovery Date']                  = None\n",
    "    report.loc['Single Largest Drawdown']        = df.min()\n",
    "    report.loc['Single Largest Drawdown Date']   = df.idxmin()\n",
    "    \n",
    "    for col in df.columns:\n",
    "        report.loc['MDD Start', col]             = (rolling_max.loc[:report.loc['MDD End', col]])[col].idxmax()\n",
    "        recovery_df                              = (drawdown.loc[report.loc['MDD End', col]:])[col]\n",
    "        # modify the threshold for recovery from 0 to 0.001\n",
    "        try:\n",
    "            report.loc['Recovery Date', col]     = recovery_df[recovery_df >= 0].index[0]\n",
    "            report.loc['Recovery period (days)'] = (report.loc['Recovery Date'] - report.loc['MDD Start']).dt.days\n",
    "\n",
    "        except:\n",
    "            report.loc['Recovery Date', col]     = None\n",
    "            report.loc['Recovery period (days)'] = None\n",
    "    return round(report,4)\n",
    "\n",
    "def performanceMetrics(returns, annualization = 12):\n",
    "    metrics = pd.DataFrame(index=returns.columns)\n",
    "    metrics['Mean'] = returns.mean() * annualization\n",
    "    metrics['Vol'] = returns.std() * np.sqrt(annualization)\n",
    "    metrics['Sharpe'] = (returns.mean() / returns.std()) * np.sqrt(annualization)\n",
    "    metrics['Sortino'] = (returns.mean() / returns[returns < 0].std()) * np.sqrt(annualization)\n",
    "    metrics['Min'] = returns.min()\n",
    "    metrics['Max'] = returns.max()\n",
    "    metrics.sort_values('Sharpe',ascending = False)\n",
    "    return metrics"
   ]
  },
  {
   "cell_type": "code",
   "execution_count": 4,
   "id": "e71e834c",
   "metadata": {},
   "outputs": [],
   "source": [
    "### Manually retrieve data from Quandl, and remove irrelevant sectors and timeframes for multiple securities.\n",
    "### Arguments: symbol_arr: array of symbols, start: starting close price, end: ending close price, fiscal: earliest quarter-end to encompass, ex_sectors: sectors to exclude\n",
    "def filter_symbols(symbol_arr,start,end,fiscal,ex_sectors):\n",
    "    data = quandl.get_table(\"ZACKS/FC\",\n",
    "                           paginate     = True,\n",
    "                           per_end_date = {'gte':fiscal},\n",
    "                           per_type     = 'Q',\n",
    "                           qopts        = { 'columns': ['ticker','zacks_sector_code','per_end_date','per_type']},\n",
    "                           ticker       = symbol_arr,\n",
    "                           )\n",
    "    datadup = data.groupby('ticker').agg(['nunique'])\n",
    "    datadup = datadup[datadup[('zacks_sector_code', 'nunique')] != 1]\n",
    "    data    = data.set_index('ticker')\n",
    "    data    = data.drop(index=datadup.index)\n",
    "    data    = data.reset_index()\n",
    "    data    = data.drop_duplicates(subset=['ticker','zacks_sector_code','per_type'])\n",
    "    data    = data[(data['zacks_sector_code'].isin(ex_sectors) == False)]\n",
    "    data    = data.reset_index(drop=True)\n",
    "    mask    = []\n",
    "    \n",
    "    for d in range(data.shape[0]):\n",
    "        try:\n",
    "            valid_check = quandler_table(data.iloc[d,0],start,end)\n",
    "            if (valid_check.shape[0] == valid_check.dropna().shape[0]) & (valid_check.iloc[0,1] == pd.to_datetime(end)) & ((valid_check.iloc[-1,1] == pd.to_datetime(start))):\n",
    "                pass\n",
    "            else:\n",
    "                mask.append(d)\n",
    "        except:\n",
    "            mask.append(d)\n",
    "    \n",
    "    data    = data.drop(data.index[mask])\n",
    "    \n",
    "    return data\n",
    "\n",
    "### Specific formula for pulling ZACKS/FR. Arguments are the same as filter_symbols\n",
    "def zacks_fr(symbol_arr,fiscal,fiscallast):\n",
    "    data = quandl.get_table(\"ZACKS/FR\",\n",
    "                           paginate     = True,\n",
    "                           per_end_date = {'gte':fiscal, 'lt':fiscallast},\n",
    "                           qopts        = { 'columns': ['ticker','per_end_date','per_type','ret_invst','tot_debt_tot_equity']},\n",
    "                           ticker       = symbol_arr,\n",
    "                           )\n",
    "    return data\n",
    "\n",
    "### Specific formula for pulling ZACKS/MKTV. Arguments are the same as filter_symbols\n",
    "def zacks_mktv(symbol_arr,fiscal,fiscallast):\n",
    "    data = quandl.get_table(\"ZACKS/MKTV\",\n",
    "                           paginate     = True,\n",
    "                           per_end_date = {'gte':fiscal,'lt':fiscallast},\n",
    "                           qopts        = { 'columns': ['ticker','per_end_date','per_type','mkt_val']},\n",
    "                           ticker       = symbol_arr,\n",
    "                           )\n",
    "    return data\n",
    "\n",
    "### Specific formula for pulling ZACKS/FC. Arguments are the same as filter_symbols\n",
    "def zacks_fc(symbol_arr,fiscal,fiscallast):\n",
    "    data = quandl.get_table(\"ZACKS/FC\",\n",
    "                           paginate     = True,\n",
    "                           per_end_date = {'gte':fiscal,'lt':fiscallast},\n",
    "                           qopts        = { 'columns': ['ticker','per_end_date','per_type','filing_date','tot_lterm_debt','net_lterm_debt','eps_diluted_net','basic_net_eps']},\n",
    "                           ticker       = symbol_arr,\n",
    "                           )\n",
    "    return data\n",
    "\n",
    "### Specific formula for pulling ZACKS/SHRS. Arguments are the same as filter_symbols\n",
    "def zacks_sh(symbol_arr,fiscal,fiscallast):\n",
    "    data = quandl.get_table(\"ZACKS/SHRS\",\n",
    "                           paginate     = True,\n",
    "                           per_end_date = {'gte':fiscal,'lt':fiscallast},\n",
    "                           qopts        = { 'columns': ['ticker','shares_out','per_end_date','per_type']},\n",
    "                           ticker       = symbol_arr,\n",
    "                           )\n",
    "    return data\n",
    "\n",
    "### Use to download data from Quandl.\n",
    "### Arguments: symbol: Enter database code and symbol code here. start and end refer to dates (YYYY-MM-DD)\n",
    "def quandler_table(symbol_arr,start,end):\n",
    "    data = quandl.get_table(\"QUOTEMEDIA/PRICES\", \n",
    "                            paginate = True,\n",
    "                            qopts  = { 'columns': ['ticker', 'date', 'adj_close'] }, \n",
    "                            ticker = symbol_arr, \n",
    "                            date   = { 'gte': start, 'lte': end })\n",
    "    return data\n",
    "\n",
    "### Use to download data directly from Quandl in bulk. Much faster, and I wish I discovered this before starting...\n",
    "### Arguments: dataset_code: second variable after hyphen database_code: first variable before hyphen\n",
    "def get_table(dataset_code: str, database_code: str = \"ZACKS\", start_date = \"2014-01-02\", end_date = \"2021-01-31\"):\n",
    "\n",
    "    url = (\n",
    "        f\"https://data.nasdaq.com/api/v3/datatables/{database_code}/{dataset_code}.json?date.gte={start_date}&date.lte={end_date}\"\n",
    "        )\n",
    "    get = requests.get(\n",
    "        url, params={ \"api_key\": \"hJrpPb7hMqbAvC9tkQZy\", \"qopts.export\": \"true\",}\n",
    "        )\n",
    "    data = get.json()\n",
    "    print(data)\n",
    "    urlretrieve(\n",
    "        data[\"datatable_bulk_download\"][\"file\"][\"link\"],\n",
    "        f\"zacks_{dataset_code.lower()}.zip\",\n",
    "        )\n",
    "\n",
    "### Use to download data directly from Quandl in bulk. Much faster, and I wish I discovered this before starting...\n",
    "### Arguments: dataset_code: second variable after hyphen database_code: first variable before hyphen\n",
    "def get_dataset(dataset_code: str, database_code: str = \"ZACKS\", start_date = \"2014-01-02\", end_date = \"2021-01-31\"):\n",
    "\n",
    "    url = (\n",
    "        f\"https://data.nasdaq.com/api/v3/datasets/{database_code}/{dataset_code}.json?date.gte={start_date}&date.lte={end_date}\"\n",
    "        )\n",
    "    get = requests.get(\n",
    "        url, params={ \"api_key\": \"hJrpPb7hMqbAvC9tkQZy\", \"qopts.export\": \"true\",}\n",
    "        )\n",
    "    data = get.json()\n",
    "    print(data)\n",
    "    urlretrieve(\n",
    "        data[\"datatable_bulk_download\"][\"file\"][\"link\"],\n",
    "        f\"zacks_{dataset_code.lower()}.zip\",\n",
    "        )\n",
    "    \n",
    "### Use to take the csv file downloaded and convert into a pd dataframe for analysis\n",
    "### Arguments: path: name of the file and file type if in the same folder\n",
    "def load_file(path):\n",
    "    df = (pd.read_csv(path, low_memory=False))\n",
    "    return df"
   ]
  },
  {
   "cell_type": "code",
   "execution_count": 5,
   "id": "6eda9054",
   "metadata": {},
   "outputs": [],
   "source": [
    "### Below commands are to download main files from Quandl, and condense data to contain only the required period and sectors\n",
    "### This code is not currently in use in the file, but is here for cross-validation given quandl.get_table takes lightyears to retrieve.\n",
    "### The code has been tested and verified. In order to run, replace the csv name with the name of the file that is saved next to your notebook\n",
    "### after running the load_file function.\n",
    "df_QM       = load_file('QUOTEMEDIA_PRICES_c8f0efd9fcd1266961c983e363b5449c.csv')\n",
    "df_QM       = df_QM[['ticker','date','adj_close']]\n",
    "df_QM_check = df_QM.dropna().groupby(['ticker']).agg(['count','max', 'min'])\n",
    "\n",
    "df_FC       = load_file('ZACKS_FC_cfd91b62b5a96fe2df4fc20f7fd3259e.csv')\n",
    "df_FC       = df_FC[['ticker','zacks_sector_code','per_end_date','per_type']]\n",
    "df_FC       = df_FC[df_FC['per_end_date']>=fiscal_check]\n",
    "df_FC       = df_FC[df_FC['per_type'] == 'Q']\n",
    "datadup     = df_FC.groupby('ticker').agg('nunique')\n",
    "datadup     = datadup[datadup[('zacks_sector_code')] != 1]\n",
    "df_FC       = df_FC.set_index('ticker')\n",
    "df_FC       = df_FC.drop(index=datadup.index)\n",
    "df_FC       = df_FC.reset_index()\n",
    "df_FC       = df_FC.drop_duplicates(subset=['ticker','zacks_sector_code','per_type'])\n",
    "df_FC       = df_FC[(df_FC['zacks_sector_code'].isin(ex_sectors) == False)]\n",
    "df_FC       = df_FC.reset_index(drop=True)\n",
    "\n",
    "newarr      = df_QM_check[(df_QM_check[('date','count')] == 1782) & (df_QM_check[('date','max')] == period[1]) & (df_QM_check[('date','min')] == period[0])].index.tolist()\n",
    "df_FC       = df_FC[df_FC['ticker'].isin(newarr)]"
   ]
  },
  {
   "cell_type": "code",
   "execution_count": 6,
   "id": "3f536bae",
   "metadata": {},
   "outputs": [],
   "source": [
    "pd.set_option('display.max_rows', None)\n",
    "pd.set_option('display.max_columns', None)"
   ]
  },
  {
   "cell_type": "markdown",
   "id": "61129540",
   "metadata": {},
   "source": [
    "Start by downloading all of the static tickers in the csv in the url. There are many other new tickers available if we use another source, but since the scope of this strategy is to look at data encompassing all of 2014-2021, the new tickers won't be relevant. \n",
    "\n",
    "The dataset starts with 8913 unique symbols. Filtering on sector and full data ranges brings down the population to 2107."
   ]
  },
  {
   "cell_type": "code",
   "execution_count": 7,
   "id": "409940f0",
   "metadata": {},
   "outputs": [
    {
     "data": {
      "text/plain": [
       "8913"
      ]
     },
     "execution_count": 7,
     "metadata": {},
     "output_type": "execute_result"
    }
   ],
   "source": [
    "len(all_symbols)"
   ]
  },
  {
   "cell_type": "code",
   "execution_count": 8,
   "id": "b6b9eb8e",
   "metadata": {
    "scrolled": true
   },
   "outputs": [],
   "source": [
    "valid_symbols2 = filter_symbols(all_symbols,period[0],period[1],'2013-09-30',ex_sectors)"
   ]
  },
  {
   "cell_type": "code",
   "execution_count": 9,
   "id": "b0353794",
   "metadata": {
    "scrolled": false
   },
   "outputs": [
    {
     "data": {
      "text/plain": [
       "(2107, 4)"
      ]
     },
     "execution_count": 9,
     "metadata": {},
     "output_type": "execute_result"
    }
   ],
   "source": [
    "valid_symbols2.shape"
   ]
  },
  {
   "cell_type": "code",
   "execution_count": 10,
   "id": "dca8aa16",
   "metadata": {},
   "outputs": [],
   "source": [
    "symbol_sector = valid_symbols2\n",
    "symbol_sector_arr = symbol_sector['ticker'].tolist()"
   ]
  },
  {
   "cell_type": "markdown",
   "id": "8cfe77d4",
   "metadata": {},
   "source": [
    "Next, a filter is applied on securities which have a D/E ratio greater than 0.1 for 10 or more fiscal periods. The population is reduced to 1584 securities."
   ]
  },
  {
   "cell_type": "code",
   "execution_count": 11,
   "id": "254a33ce",
   "metadata": {},
   "outputs": [],
   "source": [
    "df_de_one = zacks_fr(symbol_sector_arr,fiscal_check,fiscal_last)"
   ]
  },
  {
   "cell_type": "code",
   "execution_count": 12,
   "id": "0a1e9663",
   "metadata": {},
   "outputs": [
    {
     "name": "stdout",
     "output_type": "stream",
     "text": [
      "(1583, 4)\n"
     ]
    }
   ],
   "source": [
    "df_de_one_gb = df_de_one[df_de_one['tot_debt_tot_equity'] > 0.1].groupby([\"ticker\"]).agg(['count'])\n",
    "df_de_one_gb = df_de_one_gb[df_de_one_gb[('tot_debt_tot_equity','count')] > 10]\n",
    "print(df_de_one_gb.shape)"
   ]
  },
  {
   "cell_type": "markdown",
   "id": "b04b674d",
   "metadata": {},
   "source": [
    "At this point, it becomes apparent that market values are available for only \"traditional\" quarterly reporting dates, so we will need to eliminate all other dates.\n",
    "\n",
    "After eliminating symbols with non-traditional quarterly reporting dates, one final cleansing filter is applied: remove any symbols where there is too much data missing.\n",
    "\n",
    "The most constraining filters left are: using annual dates where quarterly dates aren't available for general accuracy, diluted EPS for PE ratios, and using total LT debt where net LT debt isn't available for ROI calculation. The below filters are assigned on the toughest constraints, and the population is still well above the 200 stock threshold.\n",
    "\n",
    "In other words, even when constraining the population to symbols which have a full dataset for net LT debt and quarterly reports, there are 453 unique symbols left that can be chosen from. Therefore, we can remove these extra columns when merging dataframes later on below. Finally, after cleaning for some null values, as well as further reviewing the data to remove extremely small PE ratios that will exacerbate calculations to inf when dividing, we are left with 392 symbols."
   ]
  },
  {
   "cell_type": "code",
   "execution_count": 13,
   "id": "22175f66",
   "metadata": {
    "scrolled": true
   },
   "outputs": [],
   "source": [
    "df_mktv = zacks_mktv(symbol_sector_arr,fiscal_check,fiscal_last)\n",
    "df_fc   = zacks_fc(symbol_sector_arr,fiscal_check,fiscal_last)\n",
    "df_sh   = zacks_sh(symbol_sector_arr,fiscal_check,fiscal_last)"
   ]
  },
  {
   "cell_type": "code",
   "execution_count": 14,
   "id": "6c27da23",
   "metadata": {},
   "outputs": [],
   "source": [
    "df_merged = pd.merge(df_fc,df_sh,on=['ticker','per_end_date','per_type'],how='left')\n",
    "df_merged = pd.merge(df_merged,df_mktv,on=['ticker','per_end_date','per_type'],how='left')\n",
    "df_merged = pd.merge(df_merged,df_de_one,on=['ticker','per_end_date','per_type'],how='left')\n",
    "df_merged_agg = df_merged.groupby('ticker').agg('count')\n",
    "df_merged_agg = df_merged_agg[(df_merged_agg>=30).all(axis=1)]\n",
    "df_merged_agg = df_merged_agg[(df_merged_agg['net_lterm_debt'] == 38) & (df_merged_agg['basic_net_eps'] == 38) & (df_merged_agg['eps_diluted_net'] == 38)]\n",
    "symbol_list = df_merged_agg.reset_index()['ticker'].unique().tolist()\n",
    "df_merged = df_merged[(df_merged['ticker'].isin(symbol_list)) & (df_merged['per_type'] == 'Q')]"
   ]
  },
  {
   "cell_type": "code",
   "execution_count": 15,
   "id": "4c9eafe7",
   "metadata": {
    "scrolled": true
   },
   "outputs": [
    {
     "data": {
      "text/plain": [
       "453"
      ]
     },
     "execution_count": 15,
     "metadata": {},
     "output_type": "execute_result"
    }
   ],
   "source": [
    "len(df_merged['ticker'].unique().tolist())"
   ]
  },
  {
   "cell_type": "code",
   "execution_count": 16,
   "id": "212e6bb7",
   "metadata": {},
   "outputs": [],
   "source": [
    "df_merged_null = df_merged[(df_merged['ret_invst'].isnull() == True) | (df_merged['tot_lterm_debt'].isnull() == True) | (df_merged['filing_date'].isnull() == True)]\n",
    "null_vals = df_merged_null.groupby('ticker').agg('count').index.tolist()\n",
    "df_merged = df_merged[~df_merged['ticker'].isin(null_vals)]\n",
    "### Here, remove NPTN which is missing 2013Q4 data, as well as some other problematic tickers that had trivial issues, such as negligible earnings that explode  to \"inf\" when divided, etc.\n",
    "inf_vals = ['REED', 'AVD', 'BKEP', 'CNTY', 'PFSW', 'CCOI', 'NEO', 'HDSN','SRI', 'CLNE', 'ON', 'HBIO', 'SALM', 'ACIW', 'SMLP', 'AWX', 'ITGR','INOD', 'INFU', 'CHH', 'AWK', 'CDE', 'CAPL', 'USAK', 'BGFV','IART']\n",
    "df_merged = df_merged[~df_merged['ticker'].isin(inf_vals)]\n",
    "df_merged = df_merged[(df_merged['ticker'] != 'NPTN') & (df_merged['ticker'] != 'AMS') & (df_merged['ticker'] != 'LBTYB') & (df_merged['ticker'] != 'NVEE')]"
   ]
  },
  {
   "cell_type": "markdown",
   "id": "1d101ab2",
   "metadata": {},
   "source": [
    "Now that the population is reduced, the data can be prepared to readily calculate the PE, ROI, and DE ratios per day by backing out the market value in the Zacks data and replacing with EOD prices per stock. When doing these calculations, the below code ensures that ratios are being updated only as of the filing dates, and not as of the outright quarter-end dates. \n",
    "\n",
    "The assignment requests that negative EPS be replaced with 0.001, however for the purposes of this analysis, I found it harder to differentiate between well-performing and poor-performing stocks when doing so and therefore left EPS as is."
   ]
  },
  {
   "cell_type": "code",
   "execution_count": 17,
   "id": "7610b5d3",
   "metadata": {},
   "outputs": [
    {
     "data": {
      "text/plain": [
       "392"
      ]
     },
     "execution_count": 17,
     "metadata": {},
     "output_type": "execute_result"
    }
   ],
   "source": [
    "symbol_list = df_merged['ticker'].unique().tolist()\n",
    "len(symbol_list)"
   ]
  },
  {
   "cell_type": "code",
   "execution_count": 18,
   "id": "f802f770",
   "metadata": {},
   "outputs": [],
   "source": [
    "df_merged = df_merged.assign(DEx = df_merged['tot_debt_tot_equity'] * (df_merged['mkt_val'] / df_merged['shares_out']))\n",
    "df_merged = df_merged.assign(ROIx1 = df_merged['ret_invst'] * (df_merged['mkt_val'] + df_merged['tot_lterm_debt']) )\n",
    "#df_merged['eps_diluted_net'] = df_merged['eps_diluted_net'].mask(df_merged['eps_diluted_net'].lt(0),0.001)\n",
    "df_merged = df_merged.assign(PEx = 1 / df_merged['eps_diluted_net'])\n",
    "df_merged = df_merged[['ticker','filing_date','net_lterm_debt','shares_out','DEx','ROIx1','PEx']]\n",
    "df_merged = df_merged.sort_values(by=['filing_date'],ascending=True)"
   ]
  },
  {
   "cell_type": "markdown",
   "id": "5b5ccce1",
   "metadata": {},
   "source": [
    "At this point, upon reading the update on the Ed discussion, I switched from pulling from quandl to using the API url. Here, the data for close prices is sourced once again using the faster method. The data is then combined with only the essential elements from the merged data above to calculate the ratios per stock per day.\n",
    "\n",
    "The API details are included as well for reference."
   ]
  },
  {
   "cell_type": "code",
   "execution_count": 19,
   "id": "99e6f61f",
   "metadata": {
    "scrolled": true
   },
   "outputs": [],
   "source": [
    "#get_table(\"PRICES\",\"QUOTEMEDIA\")"
   ]
  },
  {
   "cell_type": "code",
   "execution_count": 20,
   "id": "c81c9bc2",
   "metadata": {},
   "outputs": [],
   "source": [
    "df_prices = load_file('QUOTEMEDIA_PRICES_c8f0efd9fcd1266961c983e363b5449c.csv')\n",
    "df_prices = df_prices[['ticker','date','adj_close']]\n",
    "df_prices = df_prices[df_prices['ticker'].isin(symbol_list)]"
   ]
  },
  {
   "cell_type": "code",
   "execution_count": 21,
   "id": "f94732a9",
   "metadata": {},
   "outputs": [],
   "source": [
    "df_multiples = df_prices\n",
    "df_multiples = df_multiples.set_index('date').sort_index(ascending=True)\n",
    "df_multiples['trade dates'] = pd.to_datetime(df_multiples.index)"
   ]
  },
  {
   "cell_type": "markdown",
   "id": "13eeb3b7",
   "metadata": {},
   "source": [
    "Merge Tables"
   ]
  },
  {
   "cell_type": "code",
   "execution_count": 66,
   "id": "f017c87b",
   "metadata": {
    "scrolled": true
   },
   "outputs": [],
   "source": [
    "df_multiples = pd.merge_asof(df_multiples,df_merged,allow_exact_matches=False, left_on = 'trade dates', right_on = 'filing_date',direction = 'backward',left_by='ticker', right_by='ticker')"
   ]
  },
  {
   "cell_type": "markdown",
   "id": "3b0ee802",
   "metadata": {},
   "source": [
    "Annualize figures"
   ]
  },
  {
   "cell_type": "code",
   "execution_count": 23,
   "id": "43dd7736",
   "metadata": {},
   "outputs": [
    {
     "data": {
      "text/html": [
       "<div>\n",
       "<style scoped>\n",
       "    .dataframe tbody tr th:only-of-type {\n",
       "        vertical-align: middle;\n",
       "    }\n",
       "\n",
       "    .dataframe tbody tr th {\n",
       "        vertical-align: top;\n",
       "    }\n",
       "\n",
       "    .dataframe thead th {\n",
       "        text-align: right;\n",
       "    }\n",
       "</style>\n",
       "<table border=\"1\" class=\"dataframe\">\n",
       "  <thead>\n",
       "    <tr style=\"text-align: right;\">\n",
       "      <th></th>\n",
       "      <th>ticker</th>\n",
       "      <th>adj_close</th>\n",
       "      <th>trade dates</th>\n",
       "      <th>filing_date</th>\n",
       "      <th>net_lterm_debt</th>\n",
       "      <th>shares_out</th>\n",
       "      <th>DEx</th>\n",
       "      <th>ROIx1</th>\n",
       "      <th>PEx</th>\n",
       "      <th>DE</th>\n",
       "      <th>ROI</th>\n",
       "      <th>PE</th>\n",
       "    </tr>\n",
       "  </thead>\n",
       "  <tbody>\n",
       "    <tr>\n",
       "      <th>0</th>\n",
       "      <td>ENDP</td>\n",
       "      <td>65.500000</td>\n",
       "      <td>2014-01-02</td>\n",
       "      <td>2013-11-05</td>\n",
       "      <td>-134.688</td>\n",
       "      <td>114.21</td>\n",
       "      <td>103.839582</td>\n",
       "      <td>13609.412418</td>\n",
       "      <td>3.030303</td>\n",
       "      <td>1.585337</td>\n",
       "      <td>7.410448</td>\n",
       "      <td>49.621212</td>\n",
       "    </tr>\n",
       "    <tr>\n",
       "      <th>1</th>\n",
       "      <td>TUP</td>\n",
       "      <td>70.029590</td>\n",
       "      <td>2014-01-02</td>\n",
       "      <td>2013-11-07</td>\n",
       "      <td>198.100</td>\n",
       "      <td>51.71</td>\n",
       "      <td>289.431527</td>\n",
       "      <td>28476.550944</td>\n",
       "      <td>1.052632</td>\n",
       "      <td>4.132989</td>\n",
       "      <td>29.823608</td>\n",
       "      <td>18.428840</td>\n",
       "    </tr>\n",
       "    <tr>\n",
       "      <th>2</th>\n",
       "      <td>TWI</td>\n",
       "      <td>17.406518</td>\n",
       "      <td>2014-01-02</td>\n",
       "      <td>2013-10-29</td>\n",
       "      <td>209.153</td>\n",
       "      <td>53.54</td>\n",
       "      <td>15.282392</td>\n",
       "      <td>806.529865</td>\n",
       "      <td>6.666667</td>\n",
       "      <td>0.877970</td>\n",
       "      <td>2.827206</td>\n",
       "      <td>29.010863</td>\n",
       "    </tr>\n",
       "    <tr>\n",
       "      <th>3</th>\n",
       "      <td>AAOI</td>\n",
       "      <td>14.630000</td>\n",
       "      <td>2014-01-02</td>\n",
       "      <td>2013-11-14</td>\n",
       "      <td>2.659</td>\n",
       "      <td>9.15</td>\n",
       "      <td>11.740316</td>\n",
       "      <td>119.657761</td>\n",
       "      <td>25.000000</td>\n",
       "      <td>0.802482</td>\n",
       "      <td>3.505851</td>\n",
       "      <td>91.437500</td>\n",
       "    </tr>\n",
       "    <tr>\n",
       "      <th>4</th>\n",
       "      <td>AAWW</td>\n",
       "      <td>40.520000</td>\n",
       "      <td>2014-01-02</td>\n",
       "      <td>2013-11-07</td>\n",
       "      <td>338.388</td>\n",
       "      <td>25.24</td>\n",
       "      <td>62.099430</td>\n",
       "      <td>2360.157412</td>\n",
       "      <td>1.063830</td>\n",
       "      <td>1.532562</td>\n",
       "      <td>6.935964</td>\n",
       "      <td>10.776596</td>\n",
       "    </tr>\n",
       "  </tbody>\n",
       "</table>\n",
       "</div>"
      ],
      "text/plain": [
       "  ticker  adj_close trade dates filing_date  net_lterm_debt  shares_out  \\\n",
       "0   ENDP  65.500000  2014-01-02  2013-11-05        -134.688      114.21   \n",
       "1    TUP  70.029590  2014-01-02  2013-11-07         198.100       51.71   \n",
       "2    TWI  17.406518  2014-01-02  2013-10-29         209.153       53.54   \n",
       "3   AAOI  14.630000  2014-01-02  2013-11-14           2.659        9.15   \n",
       "4   AAWW  40.520000  2014-01-02  2013-11-07         338.388       25.24   \n",
       "\n",
       "          DEx         ROIx1        PEx        DE        ROI         PE  \n",
       "0  103.839582  13609.412418   3.030303  1.585337   7.410448  49.621212  \n",
       "1  289.431527  28476.550944   1.052632  4.132989  29.823608  18.428840  \n",
       "2   15.282392    806.529865   6.666667  0.877970   2.827206  29.010863  \n",
       "3   11.740316    119.657761  25.000000  0.802482   3.505851  91.437500  \n",
       "4   62.099430   2360.157412   1.063830  1.532562   6.935964  10.776596  "
      ]
     },
     "execution_count": 23,
     "metadata": {},
     "output_type": "execute_result"
    }
   ],
   "source": [
    "df_multiples = df_multiples.assign(DE = df_multiples['DEx'] / df_multiples['adj_close'])\n",
    "df_multiples = df_multiples.assign(ROI = df_multiples['ROIx1'] * 4 /( (df_multiples['shares_out']  * df_multiples['adj_close']) + df_multiples['net_lterm_debt']) )\n",
    "df_multiples = df_multiples.assign(PE = df_multiples['PEx'] * df_multiples['adj_close'] / 4)\n",
    "df_multiples.head()"
   ]
  },
  {
   "cell_type": "code",
   "execution_count": 24,
   "id": "187a142e",
   "metadata": {
    "scrolled": true
   },
   "outputs": [
    {
     "data": {
      "text/plain": [
       "392"
      ]
     },
     "execution_count": 24,
     "metadata": {},
     "output_type": "execute_result"
    }
   ],
   "source": [
    "len(df_merged['ticker'].unique().tolist())"
   ]
  },
  {
   "cell_type": "code",
   "execution_count": 25,
   "id": "bada0633",
   "metadata": {},
   "outputs": [],
   "source": [
    "df_multiples = df_multiples[['ticker','adj_close','trade dates','DE','ROI','PE']]\n",
    "df_multi = df_multiples.set_index(['ticker', 'trade dates']).sort_index()"
   ]
  },
  {
   "cell_type": "markdown",
   "id": "cd1bdcfe",
   "metadata": {},
   "source": [
    "#### Summary of the Universe"
   ]
  },
  {
   "cell_type": "markdown",
   "id": "91dadeaf",
   "metadata": {},
   "source": [
    "The data has been condensed to 391 unique symbols over 1782 days, specifically from January 2nd, 2014 to January 29th, 2021.\n",
    "\n",
    "The data consists of symbols that had DE ratios over 0.1 for at least 10 periods, exclues financial and auto sectors, and includes only names that consistently traded throughout the whole period. All symbols included have been able to consistently report financial and accounting statistics related to DE, ROI, and PE ratios every quarter for the given timeframe. None of the fallback calculations referenced in the beginning were necessary given the universe settled comfortably above the 200 threshold.\n",
    "\n",
    "ROI and PE have been annualized. Although the assignment asked to switch negative earnings 0.001, I found it more complicated to filter out high P/E ratios I want to long from the magnified P/E ratio symbols due to negative earnings. Therefore, rather than setting to negative earnings to 0.001, the earnings and P/E have been ignored for ranking and other calculations per stock per day. This has also helped to enhance returns."
   ]
  },
  {
   "cell_type": "code",
   "execution_count": 26,
   "id": "a54bc289",
   "metadata": {},
   "outputs": [
    {
     "data": {
      "text/plain": [
       "392"
      ]
     },
     "execution_count": 26,
     "metadata": {},
     "output_type": "execute_result"
    }
   ],
   "source": [
    "df_multi.index.unique(level='ticker').shape[0]"
   ]
  },
  {
   "cell_type": "code",
   "execution_count": 27,
   "id": "eddd5169",
   "metadata": {},
   "outputs": [
    {
     "data": {
      "text/plain": [
       "1782"
      ]
     },
     "execution_count": 27,
     "metadata": {},
     "output_type": "execute_result"
    }
   ],
   "source": [
    "df_multi.index.unique(level='trade dates').shape[0]"
   ]
  },
  {
   "cell_type": "markdown",
   "id": "e87a009b",
   "metadata": {},
   "source": [
    "========================================================================================================================"
   ]
  },
  {
   "cell_type": "markdown",
   "id": "36dea9f0",
   "metadata": {},
   "source": [
    "### Strategy Implementation"
   ]
  },
  {
   "cell_type": "markdown",
   "id": "da602692",
   "metadata": {},
   "source": [
    "##### Ratios to Test"
   ]
  },
  {
   "cell_type": "markdown",
   "id": "06662c42",
   "metadata": {},
   "source": [
    "The three main ratios to test are the DE, ROI, and PE ratios. When these move into a top or bottom decile, the strategy should buy or sell. To first decide which quantile to buy and which quantile to sell, a quick runthrough of the ratios are presented here first.\n",
    "\n",
    "DE is the Debt to Equity ratio. The more debt on a company's balance sheet, the higher this ratio is, and the worse off the company is expected to be. Like almost all balance sheet figures, this is updated quarterly. If the present market outlook of the company is to be reflected in this ratio, then the denominator would have to be updated - if stock prices go up given the market thinks the company will do better, then this will be reflected with a lower debt to equity ratio. Therefore, we will want to long lower DE ratios and short higher ones.\n",
    "\n",
    "ROI is the return on investment, and intuitively higher returns are better than lower ones. Similar to DE, live market outlook will come through the denominator, so ROI as a B/S metric will be lagging too. The default scenario will be set to long higher ROI, and short lower ROI. It is mentioned as \"default\" because this metric is in fact more complicated - absolute ROI may be reasonable, but if the company has growth-stock valuations, then the ROI can look depressed compared to value-stocks, and not necessarily represent the positive outlook of the company. Especially given the time span of 2014-2021 where growth stocks were especially favorable, it is important to explore the opposite quantile strategy here too.\n",
    "\n",
    "PE is the Price/Earnings ratio. Generally, higher PE means a higher expectation in the growth of the company, so intuitively it would be preferred to buy high PE and sell low PE."
   ]
  },
  {
   "cell_type": "markdown",
   "id": "6ebe27f3",
   "metadata": {},
   "source": [
    "##### 4th Non-Trivial Parameter"
   ]
  },
  {
   "cell_type": "markdown",
   "id": "9968ff4b",
   "metadata": {},
   "source": [
    "Before proceeding with implementing the strategy, first a fourth parameter will be included in the analysis.\n",
    "\n",
    "One interesting parameter would be to see the profitability of trading on the combination of ROI and PE. A higher return on investment should be a positive sign for a company, and a higher Price/Earnings ratio should mean a higher premium, or more demand for the stock given future prospects on earnings. ROI will update income only quarterly after filing dates meaning that the ratio will be depressed in the intermediate term since price is reflected in the denominator. In contrast, PE will have an update numerator ahead of filing dates. There are many factors in this relationship that make it interesting and unclear as to how such a parameter will behave.\n",
    "\n",
    "For the strategy, the addition of the z-scores of ROI and PE will be included."
   ]
  },
  {
   "cell_type": "code",
   "execution_count": 28,
   "id": "8239ca07",
   "metadata": {
    "scrolled": true
   },
   "outputs": [],
   "source": [
    "ROI_means = df_multi.groupby(['ticker'])['ROI'].mean()\n",
    "ROI_std   = df_multi.groupby(['ticker'])['ROI'].std()\n",
    "PE_means = df_multi.groupby(['ticker'])['PE'].mean()\n",
    "PE_std   = df_multi.groupby(['ticker'])['PE'].std()"
   ]
  },
  {
   "cell_type": "code",
   "execution_count": 29,
   "id": "a911be03",
   "metadata": {},
   "outputs": [],
   "source": [
    "df_multi['ROI_PE'] = ((df_multi['ROI'] - pd.Series(df_multi.index.get_level_values(0)).map(ROI_means).values) / ( pd.Series(df_multi.index.get_level_values(0)).map(ROI_std).values ))\\\n",
    "                            + ((df_multi['PE'] - pd.Series(df_multi.index.get_level_values(0)).map(PE_means).values) / ( pd.Series(df_multi.index.get_level_values(0)).map(PE_std).values ))"
   ]
  },
  {
   "cell_type": "code",
   "execution_count": 30,
   "id": "4172b3fc",
   "metadata": {
    "scrolled": false
   },
   "outputs": [
    {
     "data": {
      "text/html": [
       "<div>\n",
       "<style scoped>\n",
       "    .dataframe tbody tr th:only-of-type {\n",
       "        vertical-align: middle;\n",
       "    }\n",
       "\n",
       "    .dataframe tbody tr th {\n",
       "        vertical-align: top;\n",
       "    }\n",
       "\n",
       "    .dataframe thead th {\n",
       "        text-align: right;\n",
       "    }\n",
       "</style>\n",
       "<table border=\"1\" class=\"dataframe\">\n",
       "  <thead>\n",
       "    <tr style=\"text-align: right;\">\n",
       "      <th></th>\n",
       "      <th></th>\n",
       "      <th>adj_close</th>\n",
       "      <th>DE</th>\n",
       "      <th>ROI</th>\n",
       "      <th>PE</th>\n",
       "      <th>ROI_PE</th>\n",
       "    </tr>\n",
       "    <tr>\n",
       "      <th>ticker</th>\n",
       "      <th>trade dates</th>\n",
       "      <th></th>\n",
       "      <th></th>\n",
       "      <th></th>\n",
       "      <th></th>\n",
       "      <th></th>\n",
       "    </tr>\n",
       "  </thead>\n",
       "  <tbody>\n",
       "    <tr>\n",
       "      <th rowspan=\"5\" valign=\"top\">AAOI</th>\n",
       "      <th>2014-01-02</th>\n",
       "      <td>14.63</td>\n",
       "      <td>0.802482</td>\n",
       "      <td>3.505851</td>\n",
       "      <td>91.4375</td>\n",
       "      <td>0.633407</td>\n",
       "    </tr>\n",
       "    <tr>\n",
       "      <th>2014-01-03</th>\n",
       "      <td>14.35</td>\n",
       "      <td>0.818140</td>\n",
       "      <td>3.572900</td>\n",
       "      <td>89.6875</td>\n",
       "      <td>0.620053</td>\n",
       "    </tr>\n",
       "    <tr>\n",
       "      <th>2014-01-06</th>\n",
       "      <td>14.33</td>\n",
       "      <td>0.819282</td>\n",
       "      <td>3.577787</td>\n",
       "      <td>89.5625</td>\n",
       "      <td>0.619104</td>\n",
       "    </tr>\n",
       "    <tr>\n",
       "      <th>2014-01-07</th>\n",
       "      <td>14.74</td>\n",
       "      <td>0.796494</td>\n",
       "      <td>3.480194</td>\n",
       "      <td>92.1250</td>\n",
       "      <td>0.638687</td>\n",
       "    </tr>\n",
       "    <tr>\n",
       "      <th>2014-01-08</th>\n",
       "      <td>14.66</td>\n",
       "      <td>0.800840</td>\n",
       "      <td>3.498816</td>\n",
       "      <td>91.6250</td>\n",
       "      <td>0.634845</td>\n",
       "    </tr>\n",
       "  </tbody>\n",
       "</table>\n",
       "</div>"
      ],
      "text/plain": [
       "                    adj_close        DE       ROI       PE    ROI_PE\n",
       "ticker trade dates                                                  \n",
       "AAOI   2014-01-02       14.63  0.802482  3.505851  91.4375  0.633407\n",
       "       2014-01-03       14.35  0.818140  3.572900  89.6875  0.620053\n",
       "       2014-01-06       14.33  0.819282  3.577787  89.5625  0.619104\n",
       "       2014-01-07       14.74  0.796494  3.480194  92.1250  0.638687\n",
       "       2014-01-08       14.66  0.800840  3.498816  91.6250  0.634845"
      ]
     },
     "execution_count": 30,
     "metadata": {},
     "output_type": "execute_result"
    }
   ],
   "source": [
    "df_multi.head()"
   ]
  },
  {
   "cell_type": "markdown",
   "id": "122970aa",
   "metadata": {},
   "source": [
    "##### Quantile Conditions and Boundaries"
   ]
  },
  {
   "cell_type": "markdown",
   "id": "f792f730",
   "metadata": {},
   "source": [
    "As defined in the assignment, this strategy will be a top and bottom decile strategy. That means at any given time, the strategy will be long 40 symbols and short 40 symbols, given the sample space of 391 names (I have rounded up to 400). \n",
    "\n",
    "Two basic strategies will be defined first. For the first strategy, each of the 80 symbols will be given equal weight in terms of amount invested, which will be set to \\$1m. For the second strategy, the top and bottom 2.5\\% will be given 3x the weight of symbols in the 2.5\\% to 10\\% range. A position will not be exited even if it falls out of the top/bottom 40, until it passes 80th place.\n",
    "\n",
    "$Strategy \\; 1:$\n",
    "\n",
    "$Q_L,Q_S = 10\\%$\n",
    "$H_L,H_S = 80$\n",
    "\n",
    "$Strategy \\; 2:$\n",
    "\n",
    "$Q_{L1},Q_{S1} = 2.5\\%$\n",
    "$Q_{L2},Q_{S2} = 10\\%$\n",
    "$H_L,H_S = 80$"
   ]
  },
  {
   "cell_type": "markdown",
   "id": "f0409673",
   "metadata": {},
   "source": [
    "##### Capital and PNL"
   ]
  },
  {
   "cell_type": "markdown",
   "id": "de67441e",
   "metadata": {},
   "source": [
    "Initial capital will be 10 times the gross notional of the first month's set of positions. The gross notional of the first month's set of positions will be set at \\\\$500k for both long and short. Therefore, initial capital, $K_i$, will be \\$10m.\n",
    "\n",
    "$K_i = \\$10\\text{M}$\n",
    "\n",
    "Upon entering positions, as mentioned above, capital will be allocated to each symbol $S_i$ using equal weights for the total investment per side (Buy/Sell), $N_i$ for Strategy One. Strategy Two will overweight the top/bottom 2.5\\%.\n",
    "\n",
    "$Strategy \\; 1:$\n",
    "\n",
    "$S_i = \\frac{K_i}{N_i}$\n",
    "\n",
    "$Strategy \\; 2:$\n",
    "\n",
    "If from 0 to 2.5\\%:\n",
    "\n",
    "$S_i = \\frac{3 \\cdot K_i}{N_i}$\n",
    "\n",
    "If 2.5\\% or higher:\n",
    "\n",
    "$S_i = \\frac{K_i}{3 \\cdot N_i}$\n",
    "\n",
    "\n",
    "After positions are marked to market, carry costs will be subtracted in bulk from the portfolio. For this strategy, carry is assumed to apply only to the short positions. (i.e. no cost of carry on long positions)\n",
    "\n",
    "The carry cost for short positions for the strategy will be repo - 100bps on the gross short notional, where the funding rate is defined as:\n",
    "\n",
    "$3M Treasury Yield + TED Spread - 100bps$\n",
    "\n",
    "For the calculations below, funding will be pro-rated on a 252-day basis, given the frequences the user enters into the function is based on trading days. The results will be materially close to the day/360 convention."
   ]
  },
  {
   "cell_type": "code",
   "execution_count": 31,
   "id": "ce94e7e3",
   "metadata": {},
   "outputs": [],
   "source": [
    "tedrate = quandl.get('FRED/TEDRATE', start_date=period[0], end_date=period[1])\n",
    "tres_3m = quandl.get('FRED/DTB3', start_date=period[0], end_date=period[1])"
   ]
  },
  {
   "cell_type": "code",
   "execution_count": 32,
   "id": "c20287d3",
   "metadata": {},
   "outputs": [],
   "source": [
    "fundingrate = (tedrate + tres_3m - 1).squeeze()"
   ]
  },
  {
   "cell_type": "code",
   "execution_count": 33,
   "id": "faf2acef",
   "metadata": {},
   "outputs": [],
   "source": [
    "df_multi['Funding'] = pd.Series(df_multi.index.get_level_values(1)).map(fundingrate).values"
   ]
  },
  {
   "cell_type": "markdown",
   "id": "025aec02",
   "metadata": {},
   "source": [
    "##### Trading and Analysis Specific Functions"
   ]
  },
  {
   "cell_type": "markdown",
   "id": "bfbf6173",
   "metadata": {},
   "source": [
    "The function to process and backtest this strategy is below."
   ]
  },
  {
   "cell_type": "code",
   "execution_count": 34,
   "id": "44ed60f9",
   "metadata": {
    "scrolled": true
   },
   "outputs": [],
   "source": [
    "### Arguments: df_data = data with close prices and ONE ratio per day per stock, symbol_list = list of symbols, colname = the name of the column you want to analyze, freq = rebalance frequency, q_l/q_s = quantile of stocks to include, h_l/h_s = hold limit for open positions,\n",
    "### higher = y/n: If you want to buy at a higher ratio, enter \"y\", otherwise \"n\", q_l2/q_s2 = second quantile bound \n",
    "def QuantileTrade(df_data, symbol_list, colname, freq, q_l, q_s, h_l, h_s, higher = \"y\", q_l2 = 0, q_s2 = 0):\n",
    "    \n",
    "    notional_long   = 500000\n",
    "    notional_short  = 500000\n",
    "    capital         = 10000000\n",
    "    counter         = '2014-01-02'\n",
    "    \n",
    "    df_data                    = df_data.unstack('ticker').iloc[::freq,:]\n",
    "    df_data                    = df_data.stack('ticker',dropna=False).reset_index().set_index(['ticker','trade dates']).sort_index() \n",
    "    df_DE                      = df_data[['adj_close',colname,'Funding']]\n",
    "    df_DE                      = df_DE.assign(Rank  = df_DE[colname].groupby('trade dates').rank())\n",
    "\n",
    "    # Define Buy/Sell depending on whether you want to buy at a higher ratio \"y\" or lower ratio \"n\"\n",
    "    if higher == \"n\":\n",
    "        df_DE                  = df_DE.assign(Signal = np.where(df_DE['Rank'] <= q_l, \"Buy\", \n",
    "                                                         np.where(df_DE['Rank'] > len(symbol_list)-q_s,\"Sell\",\n",
    "                                                           np.where((df_DE['Rank'] <= h_l) | (df_DE['Rank'] > len(symbol_list)-h_s), \"Hold\", \"No Action\"))))\n",
    "    elif higher == \"y\":\n",
    "        df_DE                  = df_DE.assign(Signal = np.where(df_DE['Rank'] <= q_l, \"Sell\", \n",
    "                                                         np.where(df_DE['Rank'] > len(symbol_list)-q_s,\"Buy\",\n",
    "                                                           np.where((df_DE['Rank'] <= h_l) | (df_DE['Rank'] > len(symbol_list)-h_s), \"Hold\", \"No Action\"))))    \n",
    "    \n",
    "\n",
    "    df_DE                      = df_DE.reset_index().set_index('ticker').sort_index()\n",
    "    df_DE['Signal_LBD']        = df_DE['Signal'].shift()\n",
    "    df_DE                      = df_DE.reset_index().set_index(['ticker','trade dates']).sort_index()\n",
    "    df_DE                      = df_DE.reorder_levels(['trade dates','ticker']).sort_index()\n",
    "    df_DE.loc[(counter,slice(None)),'Signal_LBD'] = \"No Signal\"\n",
    "    df_DE                      = df_DE.assign( Priority = 0, Hold = 0, Hold_Count_L = 0, Hold_Count_S = 0, Position = 0, Ntnl_Entry= 0, Quantity = 0, MV_LBD = 0, MV_PBD = 0, PL_DLY = 0, PTF_Val = 0)\n",
    "    \n",
    "    # define different types of positions: 1 = new, 2 = old position in quantile, 3 = old position in hold range\n",
    "    df_DE['Priority']          = np.where( ( ((df_DE['Signal'] == 'Buy') & (df_DE['Signal_LBD'] == 'Buy')) | ((df_DE['Signal'] == 'Sell') & (df_DE['Signal_LBD'] == 'Sell')) ), 3,\n",
    "                                   np.where( ( ((df_DE['Signal'] == 'Hold') & (df_DE['Signal_LBD'] == 'Buy')) | ((df_DE['Signal'] == 'Hold') & (df_DE['Signal_LBD'] == 'Sell')) ), 2, \n",
    "                                     np.where( ((df_DE['Signal'] == 'Buy') & (df_DE['Signal_LBD'] == 'Sell')) | ((df_DE['Signal'] == 'Sell') & (df_DE['Signal_LBD'] == 'Buy')) , 1, \n",
    "                                       np.where( ((df_DE['Signal'] == 'Buy') & (df_DE['Signal_LBD'] == 'Hold')) | ((df_DE['Signal'] == 'Sell') & (df_DE['Signal_LBD'] == 'Hold')) ,1,\n",
    "                                         np.where( ((df_DE['Signal'] == 'Buy') & (df_DE['Signal_LBD'] == 'No Action') & ((df_DE['Rank'] <= h_l) | (df_DE['Rank'] > len(symbol_list)-h_s)) ) | ((df_DE['Signal'] == 'Sell') & (df_DE['Signal_LBD'] == 'No Action') & ((df_DE['Rank'] <= h_l) | (df_DE['Rank'] > len(symbol_list)-h_s))),1, 0)))))\n",
    "    \n",
    "    # Start logic to define hold positions, and to count them per time stamp so you know how many new rank positions to exclude\n",
    "    df_DE.loc[(counter,slice(None)),'Priority']             = 1\n",
    "    df_DE['Hold']              = np.where(df_DE['Priority'] == 2,2,0)\n",
    "    holds_long                 = np.array([])\n",
    "    holds_short                = np.array([])\n",
    "    store                      = np.array([])\n",
    "    \n",
    "    for i in df_DE.index.levels[0]:\n",
    "        holds_long             = np.append(holds_long,df_DE[(df_DE.index.get_level_values('trade dates') == i) &  (df_DE['Priority'] == 2) & (df_DE['Signal_LBD'] == 'Buy') ]['Priority'].count())\n",
    "        holds_short            = np.append(holds_short,df_DE[(df_DE.index.get_level_values('trade dates') == i) & (df_DE['Priority'] == 2) & (df_DE['Signal_LBD'] == 'Sell')]['Priority'].count())\n",
    "        for j in symbol_list:\n",
    "            pass\n",
    "        counter = i\n",
    "\n",
    "    holds_long                 = np.repeat(holds_long,len(symbol_list))\n",
    "    holds_short                = np.repeat(holds_short,len(symbol_list))\n",
    "    df_DE['Hold_Count_L']      = holds_long.tolist()\n",
    "    df_DE['Hold_Count_S']      = holds_short.tolist()\n",
    "    \n",
    "    # Mark positions that will be held per time stamp. Should equal q_l + q_s at all times, or at least be less than the total for edge cases\n",
    "    df_DE['Position']          = np.where((df_DE['Priority'] == 2) | ((((df_DE['Rank'] <= q_l - df_DE['Hold_Count_L']) | ((df_DE['Rank'] > len(symbol_list) - q_s + df_DE['Hold_Count_S']))) & ((df_DE['Priority'] == 1) | (df_DE['Priority'] == 3)))) , \n",
    "                                   np.where(df_DE['Signal'] == 'Buy',1,\n",
    "                                     np.where(df_DE['Signal'] == 'Sell',-1,\n",
    "                                       np.where((df_DE['Signal'] != 'No Action') & (df_DE['Signal_LBD'] == 'Buy' ), 1,\n",
    "                                         np.where((df_DE['Signal'] != 'No Action') & (df_DE['Signal_LBD'] == 'Sell' ), -1, 0)))),0)\n",
    "    \n",
    "    df_DE['Pos_Prev_MS']        = df_DE['Position'].shift(len(symbol_list))\n",
    "    df_DE['Px_Prev_MS']         = df_DE['adj_close'].shift(len(symbol_list))\n",
    "\n",
    "    # Determine the size of positions with different logic for single quantile and two-tier quantile strategies\n",
    "    if (q_s2 == 0) and (q_l2 == 0):\n",
    "        df_DE['Ntnl_Entry']     = np.where(((df_DE['Priority'] == 2) | (df_DE['Priority'] == 3)) & (df_DE['Pos_Prev_MS'] == 1), df_DE['Pos_Prev_MS'] * notional_long / q_l,\n",
    "                                    np.where(((df_DE['Priority'] == 2) | (df_DE['Priority'] == 3)) & (df_DE['Pos_Prev_MS'] == -1), df_DE['Pos_Prev_MS'] * notional_short / q_s, \n",
    "                                      np.where((df_DE['Priority'] == 1) & (df_DE['Position'] == 1), df_DE['Position'] * notional_long/ q_l,\n",
    "                                        np.where( (df_DE['Priority'] == 1) & (df_DE['Position'] == -1), df_DE['Position'] * notional_short/ q_s,\n",
    "                                          np.where( (df_DE['Priority'] == 2) & (df_DE['Signal'] == 'Hold') & (df_DE['Position'] == -1), df_DE['Position'] * notional_short/ q_s, \n",
    "                                            np.where( (df_DE['Priority'] == 2) & (df_DE['Signal'] == 'Hold') & (df_DE['Position'] == 1), df_DE['Position'] * notional_long/ q_l,\n",
    "                                              np.where((df_DE['Priority'] == 3) & ((df_DE['Rank'] <= q_l - df_DE['Hold_Count_L']) | ((df_DE['Rank'] > len(symbol_list) - q_s + df_DE['Hold_Count_S'])) ), df_DE['Position'] * notional_long/ q_l,\n",
    "                                                np.where((df_DE['Priority'] == 0) & ((df_DE['Rank'] <= q_l - df_DE['Hold_Count_L']) | ((df_DE['Rank'] > len(symbol_list) - q_s + df_DE['Hold_Count_S'])) ), df_DE['Position'] * notional_long/ q_l, 0))))))))\n",
    "\n",
    "        df_DE['Quantity']       = np.where(((df_DE['Priority'] == 1) | (df_DE['Priority'] == 2) | (df_DE['Priority'] == 3)) & (df_DE['Position'] == 1), df_DE['Position'] * notional_long/ q_l / df_DE['adj_close'],\n",
    "                                    np.where( ((df_DE['Priority'] == 1) | (df_DE['Priority'] == 2) | (df_DE['Priority'] == 3)) & (df_DE['Position'] == -1), df_DE['Position'] * notional_short/ q_s / df_DE['adj_close'],\n",
    "                                      np.where( ((df_DE['Priority'] == 2)) & ((df_DE['Pos_Prev_MS'] == 0) & (df_DE['Position'] == -1)), df_DE['Position'] * notional_short/ q_s / df_DE['adj_close'],\n",
    "                                        np.where( ((df_DE['Priority'] == 2)) & ((df_DE['Pos_Prev_MS'] == 0) & (df_DE['Position'] == 1)), df_DE['Position'] * notional_long/ q_l / df_DE['adj_close'], 0))))\n",
    "\n",
    "        df_DE['Quantity_PBD']   = df_DE[['Quantity']].shift(len(symbol_list))\n",
    "        df_DE['Quantity']   = np.where(((df_DE['Priority'] == 2) | (df_DE['Priority'] == 3)) & (df_DE['Quantity_PBD'] != 0), df_DE['Quantity_PBD'],df_DE['Quantity'])\n",
    "        df_DE['Quantity_PBD']   = df_DE[['Quantity']].shift(len(symbol_list))\n",
    "        df_DE['Ntnl_Entry_PBD'] = df_DE['Ntnl_Entry'].shift(len(symbol_list))\n",
    "        \n",
    "    else:\n",
    "        df_DE['Ntnl_Entry']    = np.where(((df_DE['Priority'] == 2) | (df_DE['Priority'] == 3)) & (df_DE['Pos_Prev_MS'] == 1), df_DE['Pos_Prev_MS'] * notional_long / q_l,\n",
    "                                    np.where(((df_DE['Priority'] == 2) | (df_DE['Priority'] == 3)) & (df_DE['Pos_Prev_MS'] == -1), df_DE['Pos_Prev_MS'] * notional_short / q_s, \n",
    "                                      np.where((df_DE['Priority'] == 1) & (df_DE['Position'] == 1), df_DE['Position'] * notional_long/ q_l,\n",
    "                                        np.where( (df_DE['Priority'] == 1) & (df_DE['Position'] == -1), df_DE['Position'] * notional_short/ q_s,\n",
    "                                          np.where( (df_DE['Priority'] == 2) & (df_DE['Signal'] == 'Hold') & (df_DE['Position'] == -1), df_DE['Position'] * notional_short/ q_s, \n",
    "                                            np.where( (df_DE['Priority'] == 2) & (df_DE['Signal'] == 'Hold') & (df_DE['Position'] == 1), df_DE['Position'] * notional_long/ q_l,\n",
    "                                              np.where((df_DE['Priority'] == 3) & ((df_DE['Rank'] <= q_l - df_DE['Hold_Count_L']) | ((df_DE['Rank'] > len(symbol_list) - q_s + df_DE['Hold_Count_S'])) ), df_DE['Position'] * notional_long/ q_l,\n",
    "                                                np.where((df_DE['Priority'] == 0) & ((df_DE['Rank'] <= q_l - df_DE['Hold_Count_L']) | ((df_DE['Rank'] > len(symbol_list) - q_s + df_DE['Hold_Count_S'])) ), df_DE['Position'] * notional_long/ q_l, 0))))))))\n",
    "\n",
    "        df_DE['Ntnl_Entry']     = np.where((df_DE['Rank'] <= q_l2) | (df_DE['Rank'] > len(symbol_list)-q_s2), df_DE['Ntnl_Entry'] * 3, df_DE['Ntnl_Entry'] / 3)\n",
    "        \n",
    "        df_DE['Quantity']       = np.where(((df_DE['Priority'] == 1) | (df_DE['Priority'] == 2) | (df_DE['Priority'] == 3)) & (df_DE['Position'] == 1), df_DE['Position'] * notional_long/ q_l / df_DE['adj_close'],\n",
    "                                    np.where( ((df_DE['Priority'] == 1) | (df_DE['Priority'] == 2) | (df_DE['Priority'] == 3)) & (df_DE['Position'] == -1), df_DE['Position'] * notional_short/ q_s / df_DE['adj_close'],\n",
    "                                      np.where( ((df_DE['Priority'] == 2)) & ((df_DE['Pos_Prev_MS'] == 0) & (df_DE['Position'] == -1)), df_DE['Position'] * notional_short/ q_s / df_DE['adj_close'],\n",
    "                                        np.where( ((df_DE['Priority'] == 2)) & ((df_DE['Pos_Prev_MS'] == 0) & (df_DE['Position'] == 1)), df_DE['Position'] * notional_long/ q_l / df_DE['adj_close'], 0))))\n",
    "        \n",
    "        df_DE['Quantity']     = np.where((df_DE['Rank'] <= q_l2) | (df_DE['Rank'] > len(symbol_list)-q_s2), df_DE['Quantity'] * 3, df_DE['Quantity'] / 3)\n",
    "      \n",
    "        df_DE['Quantity_PBD']    = df_DE['Quantity'].shift(len(symbol_list))\n",
    "        df_DE['Ntnl_Entry_PBD']  = df_DE['Ntnl_Entry'].shift(len(symbol_list))\n",
    "    \n",
    "        \n",
    "    # PL calculation. Rather than looping through, vectorize relevant columns in the df and calculate separately, then surgically insert back into df\n",
    "    LBD_P = np.array([])\n",
    "    PBD_P = np.array([])\n",
    "    LBD_Q = np.array([])\n",
    "    PBD_Q = np.array([])\n",
    "    \n",
    "    LBD_P  = np.append(LBD_P,df_DE['adj_close'])\n",
    "    PBD_P  = np.append(PBD_P,df_DE['Px_Prev_MS'])\n",
    "    LBD_Q  = np.append(LBD_Q,df_DE['Quantity'])\n",
    "    PBD_Q  = np.append(PBD_Q,df_DE['Quantity_PBD'])\n",
    "    LBD_MV = np.multiply(LBD_P,PBD_Q)\n",
    "    PBD_MV = np.multiply(PBD_P,PBD_Q)\n",
    "    \n",
    "    \n",
    "    \n",
    "    DLY_PL = np.subtract(LBD_MV,PBD_MV)\n",
    "    DLY_PL = np.add(DLY_PL, np.multiply(df_DE['Funding'] / 100 * freq / 252 * -1,np.where((PBD_MV <0),PBD_MV,0)))\n",
    "\n",
    "    df_DE['MV_LBD']  = LBD_MV.tolist()\n",
    "    df_DE['MV_PBD']  = PBD_MV.tolist()\n",
    "    df_DE['PL_DLY']  = DLY_PL.tolist()\n",
    "    df_DE['PL_LTD']  = df_DE['PL_DLY'].cumsum()\n",
    "    df_DE['PTF_Val'] = df_DE['PL_LTD'] + capital\n",
    "    \n",
    "    # control check to see if backtest bankrupts\n",
    "    if df_DE[df_DE['PTF_Val'] < 0]['PTF_Val'].count() > 0:\n",
    "        return \"WARNING!: This strategy depletes capital!\"\n",
    "    \n",
    "    print('LTD PL for this strategy is {}'.format(df_DE.iloc[-1,-1]))\n",
    "    \n",
    "    return df_DE"
   ]
  },
  {
   "cell_type": "code",
   "execution_count": 35,
   "id": "05c15f9f",
   "metadata": {},
   "outputs": [],
   "source": [
    "np.set_printoptions(threshold=sys.maxsize)"
   ]
  },
  {
   "cell_type": "markdown",
   "id": "a113e62b",
   "metadata": {},
   "source": [
    "Functions specifically made to analyze these strategies are listed below."
   ]
  },
  {
   "cell_type": "code",
   "execution_count": 536,
   "id": "a1047863",
   "metadata": {},
   "outputs": [],
   "source": [
    "### Calculates the DLY and LTD returns and returns a dataframe which can be used to calculate performance statistics later.\n",
    "def convert_ret(df):\n",
    "    df = df.groupby('trade dates').agg({'PL_DLY':'sum'})\n",
    "    df = df.assign(PL_LTD = df['PL_DLY'].cumsum())\n",
    "    df = df.assign(Portfolio_Value = df['PL_LTD'] + 10000000)\n",
    "    df = df.assign(Ret_DLY = np.log(df['Portfolio_Value']/df['Portfolio_Value'].shift()))\n",
    "    df = df.assign(Ret_LTD = np.log(df['Portfolio_Value']/10000000))\n",
    "    df = df.dropna()\n",
    "    return df\n",
    "\n",
    "### Calculates daily returns for multiple strategies and returns one dataframe\n",
    "def ret_dly(df,name):\n",
    "    df2 = df.groupby('trade dates').agg({'PL_DLY':'sum'})\n",
    "    df_ret = pd.DataFrame(index=df2.index,columns=[\"{}_Ret_DLY\".format(name)])\n",
    "    df_ret[\"{}_Ret_DLY\".format(name)] =  convert_ret(df)[['Ret_DLY']]\n",
    "    return df_ret.dropna()\n",
    "\n",
    "### Calculates daily returns for multiple strategies and returns one dataframe\n",
    "def PL_dly(df,name):\n",
    "    df2 = df.groupby('trade dates').agg({'PL_DLY':'sum'})\n",
    "    df_ret = pd.DataFrame(index=df2.index,columns=[\"{}_PL_DLY\".format(name)])\n",
    "    df_ret[\"{}_PL_DLY\".format(name)] =  df2['PL_DLY']\n",
    "    return df_ret\n",
    "\n",
    "### Calculates trades per milestone for multiple strategies and returns one dataframe\n",
    "def PL_dly(df,name):\n",
    "    df2 = df.groupby('trade dates').agg({'PL_DLY':'sum'})\n",
    "    df_ret = pd.DataFrame(index=df2.index,columns=[\"{}_PL_DLY\".format(name)])\n",
    "    df_ret[\"{}_PL_DLY\".format(name)] =  df2['PL_DLY']\n",
    "    return df_ret\n",
    "\n",
    "### Calculates LTD PL for multiple strategies and returns one dataframe\n",
    "def TradeCount(df,name):\n",
    "    df2 = df.groupby('trade dates').agg({'Hold':'sum'})\n",
    "    df3 = df[df['Position'] != 0].groupby('trade dates').agg('count')[['Position']]\n",
    "    df_ret = pd.DataFrame(index=df2.index,columns=[\"{}_TradeCount\".format(name)])\n",
    "    df_ret[\"{}_TradeCount\".format(name)] = df3['Position'] - df2['Hold']\n",
    "    return df_ret.dropna()\n",
    "\n",
    "### Calculates PL stats for multiple strategies and returns one dataframe\n",
    "def PL_stats(retlist,strlist):\n",
    "    concatlist = []\n",
    "    for r in range(len(retlist)):\n",
    "        concatlist.append(PL_ltd(retlist[r],strlist[r]))\n",
    "    return pd.concat(concatlist,1).T\n",
    "\n",
    "### Calculates return stats for multiple strategies and returns one dataframe\n",
    "def ret_stats(retlist,strlist):\n",
    "    concatlist = []\n",
    "    for r in range(len(retlist)):\n",
    "        concatlist.append(ret_dly(retlist[r],strlist[r]))\n",
    "    return pd.concat(concatlist,1).T\n",
    "            \n",
    "### Calculates the predefined stats for multiple strategies and returns one dataframe\n",
    "def stats(retlist,strlist,function):\n",
    "    concatlist = []\n",
    "    if function == 'Stats':\n",
    "        for r in range(len(retlist)):\n",
    "            concatlist.append(statistics(PL_dly(retlist[r],strlist[r]),0.05))\n",
    "    elif function == 'Tail Risk':\n",
    "        for r in range(len(retlist)):\n",
    "            concatlist.append(tail_risk_report(ret_dly(retlist[r],strlist[r]),0.05))\n",
    "    elif function == 'Perf':\n",
    "        for r in range(len(retlist)):\n",
    "            s = [l.split(\"_\",2)[1] for l in strlist]\n",
    "            concatlist.append(performanceMetrics(ret_dly(retlist[r],strlist[r]),252//int(s[r])).T)\n",
    "    elif function == 'Retlist':\n",
    "        for r in range(len(retlist)):\n",
    "            s = [l.split(\"_\",2)[1] for l in strlist]\n",
    "            concatlist.append(ret_dly(retlist[r],strlist[r]) * (252//int(s[r])))\n",
    "        return pd.concat(concatlist,1)    \n",
    "        \n",
    "    return pd.concat(concatlist,1).T\n",
    "\n",
    "\n",
    "### Plot Trade count\n",
    "def PlotTrades(retlist,strlist):\n",
    "    concatlist = []\n",
    "    for r in range(len(retlist)):\n",
    "        concatlist.append(TradeCount(retlist[r],strlist[r]))\n",
    "        \n",
    "    tradeplot = pd.concat(concatlist,1)\n",
    "\n",
    "    fig = plt.figure(figsize=(15,5))\n",
    "    ax = fig.add_axes([0,0,1,1])\n",
    "    ax.set_title('Distribution of Trades Per Rebalance')\n",
    "    bp = ax.boxplot(tradeplot, patch_artist=True, meanline=True, showmeans=True)\n",
    "    colors = ['lightskyblue'] * len(retlist)\n",
    "    for patch, color in zip(bp['boxes'], colors):\n",
    "        patch.set_facecolor(color)\n",
    "    plt.xticks([i for i in range(1,len(retlist)+1)], strlist)\n",
    "    ax.set_ylabel('Number of Trades')\n",
    "    ax.set_xlabel('Strategy Names')\n",
    "\n",
    "    plt.show()\n",
    "    \n",
    "### Plot return distribution\n",
    "def plotviolins(df,retliststr):\n",
    "\n",
    "    def set_axis_style(ax, labels):\n",
    "        ax.get_xaxis().set_tick_params(direction='out')\n",
    "        ax.xaxis.set_ticks_position('bottom')\n",
    "        ax.set_xticks(np.arange(1, len(labels) + 1))\n",
    "        ax.set_xticklabels(labels)\n",
    "        ax.set_xlim(0.25, len(labels) + 0.75)\n",
    "        ax.set_xlabel('Strategies')\n",
    "        \n",
    "    fig, axes = plt.subplots(figsize=(15,8))\n",
    "\n",
    "    axes.violinplot(dataset = [df[retliststr[i]].values for i in range(len(retliststr))] )\n",
    "\n",
    "    axes.set_title('Return Distributions Per Strategy')\n",
    "    axes.yaxis.grid(True)\n",
    "    axes.set_ylabel('Returns')\n",
    "    fig.autofmt_xdate()\n",
    "    set_axis_style(axes, [i for i in retliststr])\n",
    "    plt.yticks(np.arange(round(df.min().min(),2), round(df.max().max(),2), 0.05))\n",
    "    axes.yaxis.set_major_formatter(ticker.FormatStrFormatter('%0.4f'))\n",
    "\n",
    "    plt.show()"
   ]
  },
  {
   "cell_type": "code",
   "execution_count": 37,
   "id": "53c0167a",
   "metadata": {},
   "outputs": [],
   "source": [
    "pd.set_option('display.max_columns', 50)"
   ]
  },
  {
   "cell_type": "markdown",
   "id": "6ff7e2d8",
   "metadata": {},
   "source": [
    "### Results and Analysis"
   ]
  },
  {
   "cell_type": "markdown",
   "id": "5987a0f2",
   "metadata": {},
   "source": [
    "#### Initial Observations"
   ]
  },
  {
   "cell_type": "markdown",
   "id": "ba44d01d",
   "metadata": {},
   "source": [
    "Below is a list of LTD PL for each of the Ratio strategies, run for both weekly and monthly rebalances, using either a 10% quantiile or a 2.5% overweight to 10% quantile, with a holds up to the 20% quantile, where quantiles are in either direction.\n",
    "\n",
    "Many of the trading strategies are profitable, but the ones related to ROI are noticeable losers. Intuitively, this may make sense because the signal is based on a quarterly figure, and ROI can be heavily influenced by seasonality in quarterly earnings. That would mean the signal is overly reactive to quarterly changes, which means that it can overtrade a company that for example always profits in winter but loses in summer. Also, because ROI is updated daily in the denominator in the model, positive changes in the outlook for the company would be reflected there rather than in the earnings number itself, which may make trading on $lower$ ROI, although counter-intuitive, a better trading strategy. Flipping the signal on the \n",
    "ROI as well as the ROIPE trades show rather profitable trades.\n",
    "\n",
    "The issue with ROI above is exacerbated when switched to a two-tier strategy. It appears to overweight the ephemeral changes in the strategy, making it much less effective. However, when flipping the signals, it does the opposite - profits increase significantly."
   ]
  },
  {
   "cell_type": "code",
   "execution_count": 38,
   "id": "91a29223",
   "metadata": {
    "scrolled": true
   },
   "outputs": [
    {
     "name": "stdout",
     "output_type": "stream",
     "text": [
      "LTD PL for this strategy is 183616.64546292758\n"
     ]
    }
   ],
   "source": [
    "DE_5 = QuantileTrade(df_multi, symbol_list,\"DE\", 5,40,40,80,80,higher='n')"
   ]
  },
  {
   "cell_type": "code",
   "execution_count": 39,
   "id": "5db35871",
   "metadata": {},
   "outputs": [
    {
     "name": "stdout",
     "output_type": "stream",
     "text": [
      "LTD PL for this strategy is -10141.224136028324\n"
     ]
    }
   ],
   "source": [
    "DE_21 = QuantileTrade(df_multi, symbol_list,\"DE\", 21,40,40,80,80,higher='n')"
   ]
  },
  {
   "cell_type": "code",
   "execution_count": 40,
   "id": "8360f11e",
   "metadata": {},
   "outputs": [
    {
     "name": "stdout",
     "output_type": "stream",
     "text": [
      "LTD PL for this strategy is 105812.80059785691\n"
     ]
    }
   ],
   "source": [
    "PE_5 = QuantileTrade(df_multi, symbol_list,\"PE\", 5,40,40,80,80,higher='y')"
   ]
  },
  {
   "cell_type": "code",
   "execution_count": 41,
   "id": "27ecd1b9",
   "metadata": {},
   "outputs": [
    {
     "name": "stdout",
     "output_type": "stream",
     "text": [
      "LTD PL for this strategy is 111695.90956102544\n"
     ]
    }
   ],
   "source": [
    "PE_21 = QuantileTrade(df_multi, symbol_list,\"PE\", 21,40,40,80,80,higher='y')"
   ]
  },
  {
   "cell_type": "code",
   "execution_count": 42,
   "id": "793251e8",
   "metadata": {},
   "outputs": [
    {
     "name": "stdout",
     "output_type": "stream",
     "text": [
      "LTD PL for this strategy is -60729.969670442784\n"
     ]
    }
   ],
   "source": [
    "ROI_5 = QuantileTrade(df_multi, symbol_list,\"ROI\", 5,40,40,80,80,higher='y')"
   ]
  },
  {
   "cell_type": "code",
   "execution_count": 43,
   "id": "1c900ba3",
   "metadata": {},
   "outputs": [
    {
     "name": "stdout",
     "output_type": "stream",
     "text": [
      "LTD PL for this strategy is -90723.2216881722\n"
     ]
    }
   ],
   "source": [
    "ROI_21 = QuantileTrade(df_multi, symbol_list,\"ROI\", 21,40,40,80,80,higher='y')"
   ]
  },
  {
   "cell_type": "code",
   "execution_count": 44,
   "id": "091c5dbe",
   "metadata": {},
   "outputs": [
    {
     "name": "stdout",
     "output_type": "stream",
     "text": [
      "LTD PL for this strategy is -404321.34996749763\n"
     ]
    }
   ],
   "source": [
    "ROIPE_5 = QuantileTrade(df_multi, symbol_list,\"ROI_PE\", 5,40,40,80,80,higher='y')"
   ]
  },
  {
   "cell_type": "code",
   "execution_count": 45,
   "id": "864fe375",
   "metadata": {},
   "outputs": [
    {
     "name": "stdout",
     "output_type": "stream",
     "text": [
      "LTD PL for this strategy is -471762.1913290886\n"
     ]
    }
   ],
   "source": [
    "ROIPE_21 = QuantileTrade(df_multi, symbol_list,\"ROI_PE\", 21,40,40,80,80,higher='y')"
   ]
  },
  {
   "cell_type": "code",
   "execution_count": 46,
   "id": "33f15678",
   "metadata": {},
   "outputs": [
    {
     "name": "stdout",
     "output_type": "stream",
     "text": [
      "LTD PL for this strategy is 87386.34266218191\n"
     ]
    }
   ],
   "source": [
    "DE_5_twotier = QuantileTrade(df_multi, symbol_list,\"DE\", 5,40,40,80,80,'n',12,12)"
   ]
  },
  {
   "cell_type": "code",
   "execution_count": 47,
   "id": "b248ec45",
   "metadata": {},
   "outputs": [
    {
     "name": "stdout",
     "output_type": "stream",
     "text": [
      "LTD PL for this strategy is 46952.70699828226\n"
     ]
    }
   ],
   "source": [
    "DE_21_twotier = QuantileTrade(df_multi, symbol_list,\"DE\", 21,40,40,80,80,'n',12,12)"
   ]
  },
  {
   "cell_type": "code",
   "execution_count": 48,
   "id": "8db7c6c3",
   "metadata": {},
   "outputs": [
    {
     "name": "stdout",
     "output_type": "stream",
     "text": [
      "LTD PL for this strategy is -225352.53481470066\n"
     ]
    }
   ],
   "source": [
    "PE_5_twotier = QuantileTrade(df_multi, symbol_list,\"PE\", 5,40,40,80,80,'y',12,12)"
   ]
  },
  {
   "cell_type": "code",
   "execution_count": 49,
   "id": "08daf639",
   "metadata": {},
   "outputs": [
    {
     "name": "stdout",
     "output_type": "stream",
     "text": [
      "LTD PL for this strategy is -3102.915456684491\n"
     ]
    }
   ],
   "source": [
    "PE_21_twotier = QuantileTrade(df_multi, symbol_list,\"PE\", 21,40,40,80,80,'y',12,12)"
   ]
  },
  {
   "cell_type": "code",
   "execution_count": 50,
   "id": "c1e2aa05",
   "metadata": {},
   "outputs": [
    {
     "name": "stdout",
     "output_type": "stream",
     "text": [
      "LTD PL for this strategy is -346459.1701835412\n"
     ]
    }
   ],
   "source": [
    "ROI_5_twotier = QuantileTrade(df_multi, symbol_list,\"ROI\", 5,40,40,80,80,'y',12,12)"
   ]
  },
  {
   "cell_type": "code",
   "execution_count": 51,
   "id": "f264f67f",
   "metadata": {},
   "outputs": [
    {
     "name": "stdout",
     "output_type": "stream",
     "text": [
      "LTD PL for this strategy is -610091.7352894938\n"
     ]
    }
   ],
   "source": [
    "ROI_21_twotier = QuantileTrade(df_multi, symbol_list,\"ROI\", 21,40,40,80,80,'y',12,12)"
   ]
  },
  {
   "cell_type": "code",
   "execution_count": 52,
   "id": "e9d1c380",
   "metadata": {},
   "outputs": [
    {
     "name": "stdout",
     "output_type": "stream",
     "text": [
      "LTD PL for this strategy is -765422.5552438435\n"
     ]
    }
   ],
   "source": [
    "ROIPE_5_twotier = QuantileTrade(df_multi, symbol_list,\"ROI_PE\", 5,40,40,80,80,'y',12,12)"
   ]
  },
  {
   "cell_type": "code",
   "execution_count": 53,
   "id": "41b28f46",
   "metadata": {},
   "outputs": [
    {
     "name": "stdout",
     "output_type": "stream",
     "text": [
      "LTD PL for this strategy is -643641.1999325525\n"
     ]
    }
   ],
   "source": [
    "ROIPE_21_twotier = QuantileTrade(df_multi, symbol_list,\"ROI_PE\", 21,40,40,80,80,'y',12,12)"
   ]
  },
  {
   "cell_type": "code",
   "execution_count": 54,
   "id": "955003e5",
   "metadata": {},
   "outputs": [
    {
     "name": "stdout",
     "output_type": "stream",
     "text": [
      "LTD PL for this strategy is 137033.24105134318\n"
     ]
    }
   ],
   "source": [
    "ROI_5_N = QuantileTrade(df_multi, symbol_list,\"ROI\", 5,40,40,80,80,higher='n')"
   ]
  },
  {
   "cell_type": "code",
   "execution_count": 55,
   "id": "ec751a51",
   "metadata": {
    "scrolled": true
   },
   "outputs": [
    {
     "name": "stdout",
     "output_type": "stream",
     "text": [
      "LTD PL for this strategy is 81630.0311427994\n"
     ]
    }
   ],
   "source": [
    "ROI_21_N = QuantileTrade(df_multi, symbol_list,\"ROI\", 21,40,40,80,80,higher='n')"
   ]
  },
  {
   "cell_type": "code",
   "execution_count": 56,
   "id": "02069d4a",
   "metadata": {},
   "outputs": [
    {
     "name": "stdout",
     "output_type": "stream",
     "text": [
      "LTD PL for this strategy is 380236.6804779289\n"
     ]
    }
   ],
   "source": [
    "ROI_5_twotier_N = QuantileTrade(df_multi, symbol_list,\"ROI\", 5,40,40,80,80,'n',12,12)"
   ]
  },
  {
   "cell_type": "code",
   "execution_count": 57,
   "id": "7ed40168",
   "metadata": {
    "scrolled": true
   },
   "outputs": [
    {
     "name": "stdout",
     "output_type": "stream",
     "text": [
      "LTD PL for this strategy is 622009.1408948263\n"
     ]
    }
   ],
   "source": [
    "ROI_21_twotier_N = QuantileTrade(df_multi, symbol_list,\"ROI\", 21,40,40,80,80,'n',12,12)"
   ]
  },
  {
   "cell_type": "code",
   "execution_count": 58,
   "id": "26e37351",
   "metadata": {},
   "outputs": [
    {
     "name": "stdout",
     "output_type": "stream",
     "text": [
      "LTD PL for this strategy is 793992.454276203\n"
     ]
    }
   ],
   "source": [
    "ROIPE_5_twotier_N = QuantileTrade(df_multi, symbol_list,\"ROI_PE\", 5,40,40,80,80,'n',12,12)"
   ]
  },
  {
   "cell_type": "code",
   "execution_count": 59,
   "id": "1f6d8191",
   "metadata": {},
   "outputs": [
    {
     "name": "stdout",
     "output_type": "stream",
     "text": [
      "LTD PL for this strategy is 690069.4685094177\n"
     ]
    }
   ],
   "source": [
    "ROIPE_21_twotier_N = QuantileTrade(df_multi, symbol_list,\"ROI_PE\", 21,40,40,80,80,'n',12,12)"
   ]
  },
  {
   "cell_type": "markdown",
   "id": "9e47497e",
   "metadata": {},
   "source": [
    "#### Statistics and Returns Analysis"
   ]
  },
  {
   "cell_type": "code",
   "execution_count": 429,
   "id": "37a76a2e",
   "metadata": {},
   "outputs": [],
   "source": [
    "StrategyList      = [DE_5,DE_21,PE_5,PE_21,ROI_5,ROI_21,ROIPE_5,ROIPE_21,DE_5_twotier,DE_21_twotier,PE_5_twotier,PE_21_twotier,ROI_5_twotier,ROI_21_twotier,ROIPE_5_twotier,ROIPE_21_twotier,ROI_5_N,ROI_21_N,ROI_5_twotier_N,ROI_21_twotier_N, ROIPE_5_twotier_N,ROIPE_21_twotier_N]\n",
    "StrategyListStr   = ['DE_5','DE_21','PE_5','PE_21','ROI_5','ROI_21','ROIPE_5','ROIPE_21','DE_5_twotier','DE_21_twotier','PE_5_twotier','PE_21_twotier','ROI_5_twotier','ROI_21_twotier','ROIPE_5_twotier','ROIPE_21_twotier','ROI_5_N','ROI_21_N','ROI_5_twotier_N','ROI_21_twotier_N', 'ROIPE_5_twotier_N','ROIPE_21_twotier_N']\n",
    "StrategyList_M    = [DE_21,PE_21,ROI_21,ROIPE_21,DE_21_twotier,PE_21_twotier,ROI_21_twotier,ROIPE_21_twotier,ROI_21_N,ROI_21_twotier_N,ROIPE_21_twotier_N]\n",
    "StrategyList_MStr = ['DE_21','PE_21','ROI_21','ROIPE_21','DE_21_twotier','PE_21_twotier','ROI_21_twotier','ROIPE_21_twotier','ROI_21_N','ROI_21_twotier_N','ROIPE_21_twotier_N']\n",
    "StrategyList_W    = [DE_5,PE_5,ROI_5,ROIPE_5,DE_5_twotier,PE_5_twotier,ROI_5_twotier,ROIPE_5_twotier,ROI_5_N,ROI_5_twotier_N, ROIPE_5_twotier_N]\n",
    "StrategyList_WStr = ['DE_5','PE_5','ROI_5','ROIPE_5','DE_5_twotier','PE_5_twotier','ROI_5_twotier','ROIPE_5_twotier','ROI_5_N','ROI_5_twotier_N','ROIPE_5_twotier_N']"
   ]
  },
  {
   "cell_type": "markdown",
   "id": "2f6b4e0b",
   "metadata": {},
   "source": [
    "##### Strategy Performance Graphical Presentation"
   ]
  },
  {
   "cell_type": "markdown",
   "id": "93359501",
   "metadata": {},
   "source": [
    "The graphs show that the fourth ROIPE strategy does exceptionally bad - and that when we flip the signal, it does exceptionally well. Otherwise, the performance of the strategies appear to diverge more with monthly rebalances than weekly ones.\n",
    "\n",
    "The violin plots also allow for visualization of the distribution of the daily returns per strategy. The ROI strategies exhibit the widest ranges - this is also later verified with statistical figures in the following tables."
   ]
  },
  {
   "cell_type": "code",
   "execution_count": 65,
   "id": "4c9a7b98",
   "metadata": {},
   "outputs": [
    {
     "data": {
      "text/plain": [
       "<matplotlib.legend.Legend at 0x2cbc0ac8df0>"
      ]
     },
     "execution_count": 65,
     "metadata": {},
     "output_type": "execute_result"
    },
    {
     "data": {
      "image/png": "[encoded data removed]",
      "text/plain": [
       "<Figure size 1080x1080 with 6 Axes>"
      ]
     },
     "metadata": {
      "needs_background": "light"
     },
     "output_type": "display_data"
    }
   ],
   "source": [
    "plotme = PL_stats([DE_21,PE_21,ROI_21,ROIPE_21],['DE_21','PE_21','ROI_21','ROIPE_21']).T\n",
    "plotwe = PL_stats([DE_5,PE_5,ROI_5,ROIPE_5],['DE_5','PE_5','ROI_5','ROIPE_5']).T\n",
    "plotw2 = PL_stats([DE_5_twotier,PE_5_twotier,ROI_5_twotier,ROIPE_5_twotier],['DE_5_twotier','PE_5_twotier','ROI_5_twotier','ROIPE_5_twotier']).T\n",
    "plotm2 = PL_stats([DE_21_twotier,PE_21_twotier,ROI_21_twotier,ROIPE_21_twotier],['DE_21_twotier','PE_21_twotier','ROI_21_twotier','ROIPE_21_twotier']).T\n",
    "plotwn = PL_stats([ROI_5_N,ROI_5_twotier_N,ROIPE_5_twotier_N],['ROI_5_N','ROI_5_twotier_N','ROIPE_5_twotier_N']).T\n",
    "plotmn = PL_stats([ROI_21_N,ROI_21_twotier_N,ROIPE_21_twotier_N],['ROI_21_N','ROI_21_twotier_N','ROIPE_21_twotier_N']).T\n",
    "fig, ((ax1,ax2),(ax3,ax4), (ax5,ax6)) = plt.subplots(3,2,figsize=(15,15))\n",
    "l1 = ax1.plot(plotwe.index,plotwe['DE_5_PL_LTD'],label='D/E (Buy Low)')\n",
    "l2 = ax1.plot(plotwe.index,plotwe['PE_5_PL_LTD'],label='P/E (Buy High)' )\n",
    "l3 = ax1.plot(plotwe.index,plotwe['ROI_5_PL_LTD'],label='ROI (Buy High)')\n",
    "l4 = ax1.plot(plotwe.index,plotwe['ROIPE_5_PL_LTD'],label='ROI+PE (Buy High)')\n",
    "l1 = ax2.plot(plotme.index,plotme['DE_21_PL_LTD'],label='D/E (Buy Low)')\n",
    "l2 = ax2.plot(plotme.index,plotme['PE_21_PL_LTD'],label='P/E (Buy High)')\n",
    "l3 = ax2.plot(plotme.index,plotme['ROI_21_PL_LTD'],label='ROI (Buy High)')\n",
    "l4 = ax2.plot(plotme.index,plotme['ROIPE_21_PL_LTD'],label='ROI+PE (Buy High)')\n",
    "l1 = ax3.plot(plotw2.index,plotw2['DE_5_twotier_PL_LTD'],label='D/E (Buy Low)')\n",
    "l2 = ax3.plot(plotw2.index,plotw2['PE_5_twotier_PL_LTD'],label='P/E (Buy High)')\n",
    "l3 = ax3.plot(plotw2.index,plotw2['ROI_5_twotier_PL_LTD'],label='ROI (Buy High)')\n",
    "l4 = ax3.plot(plotw2.index,plotw2['ROIPE_5_twotier_PL_LTD'],label='ROI+PE (Buy High)')\n",
    "l1 = ax4.plot(plotm2.index,plotm2['DE_21_twotier_PL_LTD'],label='D/E Buy Low)')\n",
    "l2 = ax4.plot(plotm2.index,plotm2['PE_21_twotier_PL_LTD'],label='P/E (Buy High)')\n",
    "l3 = ax4.plot(plotm2.index,plotm2['ROI_21_twotier_PL_LTD'],label='ROI (Buy High)')\n",
    "l4 = ax4.plot(plotm2.index,plotm2['ROIPE_21_twotier_PL_LTD'],label='ROI+PE (Buy High)')\n",
    "l1 = ax5.plot(plotwn.index,plotwn['ROI_5_N_PL_LTD'],label='ROI (Buy Low)')\n",
    "l2 = ax5.plot(plotwn.index,plotwn['ROI_5_twotier_N_PL_LTD'],label='ROI 2.5% (Buy Low)' )\n",
    "l3 = ax5.plot(plotwn.index,plotwn['ROIPE_5_twotier_N_PL_LTD'],label='ROI+PE (Buy Low)')\n",
    "l1 = ax6.plot(plotmn.index,plotmn['ROI_21_N_PL_LTD'],label='ROI (Buy Low)')\n",
    "l2 = ax6.plot(plotmn.index,plotmn['ROI_21_twotier_N_PL_LTD'],label='ROI 2.5% (Buy Low)' )\n",
    "l3 = ax6.plot(plotmn.index,plotmn['ROIPE_21_twotier_N_PL_LTD'],label='ROI+PE (Buy Low)')\n",
    "fig.suptitle('10% Quantile Trading Strategies using Different Ratios and Positioning')\n",
    "ax1.title.set_text('Weekly Rebalancing')\n",
    "ax2.title.set_text('Monthly Rebalancing')\n",
    "ax3.title.set_text('Weekly Rebalancing, Overweight 2.5% Quantiles')\n",
    "ax4.title.set_text('Monthly Rebalancing, Overweight 2.5% Quantiles')\n",
    "ax5.title.set_text('Weekly Rebalancing, Reverse Buy/Sell Signals')\n",
    "ax6.title.set_text('Monthly Rebalancing, Reverse Buy/Sell Signals')\n",
    "ax1.set_xlabel('Dates')\n",
    "ax1.set_ylabel('Cumulative PL ($)')\n",
    "ax1.legend(loc = 'lower left')\n",
    "ax2.set_xlabel('Dates')\n",
    "ax2.set_ylabel('Cumulative PL ($)')\n",
    "ax2.legend(loc = 'lower left')\n",
    "ax3.set_xlabel('Dates')\n",
    "ax3.set_ylabel('Cumulative PL ($)')\n",
    "ax3.legend(loc = 'lower left')\n",
    "ax4.set_xlabel('Dates')\n",
    "ax4.set_ylabel('Cumulative PL ($)')\n",
    "ax4.legend(loc = 'lower left')\n",
    "ax5.set_xlabel('Dates')\n",
    "ax5.set_ylabel('Cumulative PL ($)')\n",
    "ax5.legend(loc = 'upper left')\n",
    "ax6.set_xlabel('Dates')\n",
    "ax6.set_ylabel('Cumulative PL ($)')\n",
    "ax6.legend(loc = 'upper left')"
   ]
  },
  {
   "cell_type": "code",
   "execution_count": 538,
   "id": "dbe4b1c5",
   "metadata": {},
   "outputs": [
    {
     "data": {
      "image/png": "[encoded data removed]",
      "text/plain": [
       "<Figure size 1080x576 with 1 Axes>"
      ]
     },
     "metadata": {
      "needs_background": "light"
     },
     "output_type": "display_data"
    }
   ],
   "source": [
    "plotviolins(stats(StrategyList_W,StrategyList_WStr,'Retlist'),stats(StrategyList_W,StrategyList_WStr,'Retlist').columns)"
   ]
  },
  {
   "cell_type": "code",
   "execution_count": 539,
   "id": "d113586b",
   "metadata": {
    "scrolled": false
   },
   "outputs": [
    {
     "data": {
      "image/png": "[encoded data removed]",
      "text/plain": [
       "<Figure size 1080x576 with 1 Axes>"
      ]
     },
     "metadata": {
      "needs_background": "light"
     },
     "output_type": "display_data"
    }
   ],
   "source": [
    "plotviolins(stats(StrategyList_M,StrategyList_MStr,'Retlist'),stats(StrategyList_M,StrategyList_MStr,'Retlist').columns)"
   ]
  },
  {
   "cell_type": "markdown",
   "id": "0b009794",
   "metadata": {},
   "source": [
    "#### Statistics and Risk Metrics"
   ]
  },
  {
   "cell_type": "markdown",
   "id": "ec8ba7ed",
   "metadata": {},
   "source": [
    "When looking at profitability and risk-reward, the two-tier strategy appears to offer the highest Sharpe and Sortino ratios. However, getting the direction of the signal correct is key - the below table shows how the two tier strategies are either very good or very bad performers. Two-tier strategies appear to do especially well in bad times - the Sortino ratios for them are significantly higher than the simple quantile strategies."
   ]
  },
  {
   "cell_type": "markdown",
   "id": "2a975a56",
   "metadata": {},
   "source": [
    "##### Return Statistics on Strategies (Annualized):"
   ]
  },
  {
   "cell_type": "code",
   "execution_count": 62,
   "id": "0d834de4",
   "metadata": {
    "scrolled": false
   },
   "outputs": [
    {
     "data": {
      "text/html": [
       "<div>\n",
       "<style scoped>\n",
       "    .dataframe tbody tr th:only-of-type {\n",
       "        vertical-align: middle;\n",
       "    }\n",
       "\n",
       "    .dataframe tbody tr th {\n",
       "        vertical-align: top;\n",
       "    }\n",
       "\n",
       "    .dataframe thead th {\n",
       "        text-align: right;\n",
       "    }\n",
       "</style>\n",
       "<table border=\"1\" class=\"dataframe\">\n",
       "  <thead>\n",
       "    <tr style=\"text-align: right;\">\n",
       "      <th></th>\n",
       "      <th>Mean</th>\n",
       "      <th>Vol</th>\n",
       "      <th>Sharpe</th>\n",
       "      <th>Sortino</th>\n",
       "      <th>Min</th>\n",
       "      <th>Max</th>\n",
       "    </tr>\n",
       "  </thead>\n",
       "  <tbody>\n",
       "    <tr>\n",
       "      <th>ROIPE_5_twotier_N_Ret_DLY</th>\n",
       "      <td>0.010731</td>\n",
       "      <td>0.006829</td>\n",
       "      <td>1.571426</td>\n",
       "      <td>3.138782</td>\n",
       "      <td>-0.002589</td>\n",
       "      <td>0.004810</td>\n",
       "    </tr>\n",
       "    <tr>\n",
       "      <th>ROIPE_21_twotier_N_Ret_DLY</th>\n",
       "      <td>0.009533</td>\n",
       "      <td>0.009320</td>\n",
       "      <td>1.022825</td>\n",
       "      <td>1.683940</td>\n",
       "      <td>-0.009003</td>\n",
       "      <td>0.013712</td>\n",
       "    </tr>\n",
       "    <tr>\n",
       "      <th>ROI_21_twotier_N_Ret_DLY</th>\n",
       "      <td>0.008620</td>\n",
       "      <td>0.017218</td>\n",
       "      <td>0.500654</td>\n",
       "      <td>1.208201</td>\n",
       "      <td>-0.009102</td>\n",
       "      <td>0.022252</td>\n",
       "    </tr>\n",
       "    <tr>\n",
       "      <th>DE_5_Ret_DLY</th>\n",
       "      <td>0.002555</td>\n",
       "      <td>0.006360</td>\n",
       "      <td>0.401834</td>\n",
       "      <td>0.607769</td>\n",
       "      <td>-0.003792</td>\n",
       "      <td>0.004190</td>\n",
       "    </tr>\n",
       "    <tr>\n",
       "      <th>ROI_5_twotier_N_Ret_DLY</th>\n",
       "      <td>0.005241</td>\n",
       "      <td>0.013981</td>\n",
       "      <td>0.374884</td>\n",
       "      <td>0.629382</td>\n",
       "      <td>-0.009421</td>\n",
       "      <td>0.010978</td>\n",
       "    </tr>\n",
       "    <tr>\n",
       "      <th>PE_21_Ret_DLY</th>\n",
       "      <td>0.001587</td>\n",
       "      <td>0.004561</td>\n",
       "      <td>0.347896</td>\n",
       "      <td>0.543325</td>\n",
       "      <td>-0.003129</td>\n",
       "      <td>0.003114</td>\n",
       "    </tr>\n",
       "    <tr>\n",
       "      <th>PE_5_Ret_DLY</th>\n",
       "      <td>0.001478</td>\n",
       "      <td>0.005120</td>\n",
       "      <td>0.288721</td>\n",
       "      <td>0.429931</td>\n",
       "      <td>-0.002769</td>\n",
       "      <td>0.004206</td>\n",
       "    </tr>\n",
       "    <tr>\n",
       "      <th>ROI_5_N_Ret_DLY</th>\n",
       "      <td>0.001912</td>\n",
       "      <td>0.008779</td>\n",
       "      <td>0.217741</td>\n",
       "      <td>0.405832</td>\n",
       "      <td>-0.004820</td>\n",
       "      <td>0.008049</td>\n",
       "    </tr>\n",
       "    <tr>\n",
       "      <th>DE_5_twotier_Ret_DLY</th>\n",
       "      <td>0.001222</td>\n",
       "      <td>0.008960</td>\n",
       "      <td>0.136388</td>\n",
       "      <td>0.217097</td>\n",
       "      <td>-0.004270</td>\n",
       "      <td>0.006672</td>\n",
       "    </tr>\n",
       "    <tr>\n",
       "      <th>ROI_21_N_Ret_DLY</th>\n",
       "      <td>0.001161</td>\n",
       "      <td>0.010496</td>\n",
       "      <td>0.110652</td>\n",
       "      <td>0.262006</td>\n",
       "      <td>-0.005910</td>\n",
       "      <td>0.018387</td>\n",
       "    </tr>\n",
       "    <tr>\n",
       "      <th>DE_21_twotier_Ret_DLY</th>\n",
       "      <td>0.000669</td>\n",
       "      <td>0.009886</td>\n",
       "      <td>0.067687</td>\n",
       "      <td>0.100771</td>\n",
       "      <td>-0.010908</td>\n",
       "      <td>0.007145</td>\n",
       "    </tr>\n",
       "    <tr>\n",
       "      <th>PE_21_twotier_Ret_DLY</th>\n",
       "      <td>-0.000044</td>\n",
       "      <td>0.006335</td>\n",
       "      <td>-0.006999</td>\n",
       "      <td>-0.012167</td>\n",
       "      <td>-0.004480</td>\n",
       "      <td>0.004818</td>\n",
       "    </tr>\n",
       "    <tr>\n",
       "      <th>DE_21_Ret_DLY</th>\n",
       "      <td>-0.000145</td>\n",
       "      <td>0.008194</td>\n",
       "      <td>-0.017689</td>\n",
       "      <td>-0.017080</td>\n",
       "      <td>-0.013446</td>\n",
       "      <td>0.005247</td>\n",
       "    </tr>\n",
       "    <tr>\n",
       "      <th>ROI_5_Ret_DLY</th>\n",
       "      <td>-0.000856</td>\n",
       "      <td>0.008757</td>\n",
       "      <td>-0.097697</td>\n",
       "      <td>-0.113540</td>\n",
       "      <td>-0.008130</td>\n",
       "      <td>0.005098</td>\n",
       "    </tr>\n",
       "    <tr>\n",
       "      <th>ROI_21_Ret_DLY</th>\n",
       "      <td>-0.001302</td>\n",
       "      <td>0.010466</td>\n",
       "      <td>-0.124395</td>\n",
       "      <td>-0.117459</td>\n",
       "      <td>-0.018310</td>\n",
       "      <td>0.005767</td>\n",
       "    </tr>\n",
       "    <tr>\n",
       "      <th>ROI_5_twotier_Ret_DLY</th>\n",
       "      <td>-0.004952</td>\n",
       "      <td>0.014199</td>\n",
       "      <td>-0.348783</td>\n",
       "      <td>-0.421044</td>\n",
       "      <td>-0.011458</td>\n",
       "      <td>0.009708</td>\n",
       "    </tr>\n",
       "    <tr>\n",
       "      <th>PE_5_twotier_Ret_DLY</th>\n",
       "      <td>-0.003201</td>\n",
       "      <td>0.006622</td>\n",
       "      <td>-0.483452</td>\n",
       "      <td>-0.697999</td>\n",
       "      <td>-0.003239</td>\n",
       "      <td>0.002496</td>\n",
       "    </tr>\n",
       "    <tr>\n",
       "      <th>ROI_21_twotier_Ret_DLY</th>\n",
       "      <td>-0.008993</td>\n",
       "      <td>0.017972</td>\n",
       "      <td>-0.500380</td>\n",
       "      <td>-0.529652</td>\n",
       "      <td>-0.023831</td>\n",
       "      <td>0.009616</td>\n",
       "    </tr>\n",
       "    <tr>\n",
       "      <th>ROIPE_21_twotier_Ret_DLY</th>\n",
       "      <td>-0.009504</td>\n",
       "      <td>0.009882</td>\n",
       "      <td>-0.961723</td>\n",
       "      <td>-1.059980</td>\n",
       "      <td>-0.014340</td>\n",
       "      <td>0.009697</td>\n",
       "    </tr>\n",
       "    <tr>\n",
       "      <th>ROIPE_5_Ret_DLY</th>\n",
       "      <td>-0.005797</td>\n",
       "      <td>0.005503</td>\n",
       "      <td>-1.053439</td>\n",
       "      <td>-1.369433</td>\n",
       "      <td>-0.004018</td>\n",
       "      <td>0.003307</td>\n",
       "    </tr>\n",
       "    <tr>\n",
       "      <th>ROIPE_21_Ret_DLY</th>\n",
       "      <td>-0.006904</td>\n",
       "      <td>0.005855</td>\n",
       "      <td>-1.179012</td>\n",
       "      <td>-1.383148</td>\n",
       "      <td>-0.007615</td>\n",
       "      <td>0.004627</td>\n",
       "    </tr>\n",
       "    <tr>\n",
       "      <th>ROIPE_5_twotier_Ret_DLY</th>\n",
       "      <td>-0.011184</td>\n",
       "      <td>0.007518</td>\n",
       "      <td>-1.487626</td>\n",
       "      <td>-1.808417</td>\n",
       "      <td>-0.005292</td>\n",
       "      <td>0.002882</td>\n",
       "    </tr>\n",
       "  </tbody>\n",
       "</table>\n",
       "</div>"
      ],
      "text/plain": [
       "                                Mean       Vol    Sharpe   Sortino       Min  \\\n",
       "ROIPE_5_twotier_N_Ret_DLY   0.010731  0.006829  1.571426  3.138782 -0.002589   \n",
       "ROIPE_21_twotier_N_Ret_DLY  0.009533  0.009320  1.022825  1.683940 -0.009003   \n",
       "ROI_21_twotier_N_Ret_DLY    0.008620  0.017218  0.500654  1.208201 -0.009102   \n",
       "DE_5_Ret_DLY                0.002555  0.006360  0.401834  0.607769 -0.003792   \n",
       "ROI_5_twotier_N_Ret_DLY     0.005241  0.013981  0.374884  0.629382 -0.009421   \n",
       "PE_21_Ret_DLY               0.001587  0.004561  0.347896  0.543325 -0.003129   \n",
       "PE_5_Ret_DLY                0.001478  0.005120  0.288721  0.429931 -0.002769   \n",
       "ROI_5_N_Ret_DLY             0.001912  0.008779  0.217741  0.405832 -0.004820   \n",
       "DE_5_twotier_Ret_DLY        0.001222  0.008960  0.136388  0.217097 -0.004270   \n",
       "ROI_21_N_Ret_DLY            0.001161  0.010496  0.110652  0.262006 -0.005910   \n",
       "DE_21_twotier_Ret_DLY       0.000669  0.009886  0.067687  0.100771 -0.010908   \n",
       "PE_21_twotier_Ret_DLY      -0.000044  0.006335 -0.006999 -0.012167 -0.004480   \n",
       "DE_21_Ret_DLY              -0.000145  0.008194 -0.017689 -0.017080 -0.013446   \n",
       "ROI_5_Ret_DLY              -0.000856  0.008757 -0.097697 -0.113540 -0.008130   \n",
       "ROI_21_Ret_DLY             -0.001302  0.010466 -0.124395 -0.117459 -0.018310   \n",
       "ROI_5_twotier_Ret_DLY      -0.004952  0.014199 -0.348783 -0.421044 -0.011458   \n",
       "PE_5_twotier_Ret_DLY       -0.003201  0.006622 -0.483452 -0.697999 -0.003239   \n",
       "ROI_21_twotier_Ret_DLY     -0.008993  0.017972 -0.500380 -0.529652 -0.023831   \n",
       "ROIPE_21_twotier_Ret_DLY   -0.009504  0.009882 -0.961723 -1.059980 -0.014340   \n",
       "ROIPE_5_Ret_DLY            -0.005797  0.005503 -1.053439 -1.369433 -0.004018   \n",
       "ROIPE_21_Ret_DLY           -0.006904  0.005855 -1.179012 -1.383148 -0.007615   \n",
       "ROIPE_5_twotier_Ret_DLY    -0.011184  0.007518 -1.487626 -1.808417 -0.005292   \n",
       "\n",
       "                                 Max  \n",
       "ROIPE_5_twotier_N_Ret_DLY   0.004810  \n",
       "ROIPE_21_twotier_N_Ret_DLY  0.013712  \n",
       "ROI_21_twotier_N_Ret_DLY    0.022252  \n",
       "DE_5_Ret_DLY                0.004190  \n",
       "ROI_5_twotier_N_Ret_DLY     0.010978  \n",
       "PE_21_Ret_DLY               0.003114  \n",
       "PE_5_Ret_DLY                0.004206  \n",
       "ROI_5_N_Ret_DLY             0.008049  \n",
       "DE_5_twotier_Ret_DLY        0.006672  \n",
       "ROI_21_N_Ret_DLY            0.018387  \n",
       "DE_21_twotier_Ret_DLY       0.007145  \n",
       "PE_21_twotier_Ret_DLY       0.004818  \n",
       "DE_21_Ret_DLY               0.005247  \n",
       "ROI_5_Ret_DLY               0.005098  \n",
       "ROI_21_Ret_DLY              0.005767  \n",
       "ROI_5_twotier_Ret_DLY       0.009708  \n",
       "PE_5_twotier_Ret_DLY        0.002496  \n",
       "ROI_21_twotier_Ret_DLY      0.009616  \n",
       "ROIPE_21_twotier_Ret_DLY    0.009697  \n",
       "ROIPE_5_Ret_DLY             0.003307  \n",
       "ROIPE_21_Ret_DLY            0.004627  \n",
       "ROIPE_5_twotier_Ret_DLY     0.002882  "
      ]
     },
     "execution_count": 62,
     "metadata": {},
     "output_type": "execute_result"
    }
   ],
   "source": [
    "stats(StrategyList, StrategyListStr, 'Perf').sort_values('Sharpe',ascending=False)"
   ]
  },
  {
   "cell_type": "markdown",
   "id": "b589ffbc",
   "metadata": {},
   "source": [
    "When looking at skew, kurtosis, and VaR, the below table shows that the monthly strategies tend to be much more risky than the weekly strategies. Weekly strategies allow for more frequent rebalancing, and this data shows that that is beneficial in terms of controlling downside. Another interesting observation is that the ROI strategies show much larger skew - in the case of buying higher ROI, the Skew is noticeably negative and kurtosis is large. ROI itself does seem to be an important indicator, but the data suggests that buying low ROI may be favorable in terms of infrequent but significant surprises, while buying high ROI can set the strategy up for large losses."
   ]
  },
  {
   "cell_type": "markdown",
   "id": "12e74acb",
   "metadata": {},
   "source": [
    "##### Additional Return Stats Including Skew, Excess Kurtosis, and VaR (NOT Annualized) in \\\\$USD"
   ]
  },
  {
   "cell_type": "code",
   "execution_count": 63,
   "id": "a7428184",
   "metadata": {},
   "outputs": [
    {
     "data": {
      "text/html": [
       "<div>\n",
       "<style scoped>\n",
       "    .dataframe tbody tr th:only-of-type {\n",
       "        vertical-align: middle;\n",
       "    }\n",
       "\n",
       "    .dataframe tbody tr th {\n",
       "        vertical-align: top;\n",
       "    }\n",
       "\n",
       "    .dataframe thead th {\n",
       "        text-align: right;\n",
       "    }\n",
       "</style>\n",
       "<table border=\"1\" class=\"dataframe\">\n",
       "  <thead>\n",
       "    <tr style=\"text-align: right;\">\n",
       "      <th></th>\n",
       "      <th>Mean</th>\n",
       "      <th>Median</th>\n",
       "      <th>Min</th>\n",
       "      <th>25% Quantile</th>\n",
       "      <th>75% Quantile</th>\n",
       "      <th>Max</th>\n",
       "      <th>$\\sigma$</th>\n",
       "      <th>Skewness</th>\n",
       "      <th>Excess Kurtosis</th>\n",
       "      <th>VaR (Quantile 0.05)</th>\n",
       "      <th>VaR (Normal)</th>\n",
       "    </tr>\n",
       "  </thead>\n",
       "  <tbody>\n",
       "    <tr>\n",
       "      <th>ROI_21_twotier_PL_DLY</th>\n",
       "      <td>-7177.5498</td>\n",
       "      <td>0.0000</td>\n",
       "      <td>-228270.3586</td>\n",
       "      <td>-25549.8277</td>\n",
       "      <td>20539.1239</td>\n",
       "      <td>93491.6876</td>\n",
       "      <td>50253.3104</td>\n",
       "      <td>-1.5726</td>\n",
       "      <td>4.9082</td>\n",
       "      <td>-83298.3942</td>\n",
       "      <td>-89836.8897</td>\n",
       "    </tr>\n",
       "    <tr>\n",
       "      <th>ROIPE_21_twotier_PL_DLY</th>\n",
       "      <td>-7572.2494</td>\n",
       "      <td>-3848.6981</td>\n",
       "      <td>-139443.5389</td>\n",
       "      <td>-17938.9564</td>\n",
       "      <td>5947.3602</td>\n",
       "      <td>90828.3711</td>\n",
       "      <td>27067.8440</td>\n",
       "      <td>-1.2000</td>\n",
       "      <td>7.7851</td>\n",
       "      <td>-58631.7011</td>\n",
       "      <td>-52094.8909</td>\n",
       "    </tr>\n",
       "    <tr>\n",
       "      <th>ROI_21_twotier_N_PL_DLY</th>\n",
       "      <td>7317.7546</td>\n",
       "      <td>0.0000</td>\n",
       "      <td>-93586.1320</td>\n",
       "      <td>-18847.6280</td>\n",
       "      <td>26211.1014</td>\n",
       "      <td>232107.4599</td>\n",
       "      <td>50671.7460</td>\n",
       "      <td>1.6329</td>\n",
       "      <td>5.1571</td>\n",
       "      <td>-50051.3727</td>\n",
       "      <td>-76029.8506</td>\n",
       "    </tr>\n",
       "    <tr>\n",
       "      <th>DE_21_twotier_PL_DLY</th>\n",
       "      <td>552.3848</td>\n",
       "      <td>527.3378</td>\n",
       "      <td>-110728.8091</td>\n",
       "      <td>-19200.4202</td>\n",
       "      <td>17505.2596</td>\n",
       "      <td>72105.5598</td>\n",
       "      <td>28545.8790</td>\n",
       "      <td>-0.4191</td>\n",
       "      <td>1.8041</td>\n",
       "      <td>-40039.3500</td>\n",
       "      <td>-46401.4078</td>\n",
       "    </tr>\n",
       "    <tr>\n",
       "      <th>ROI_21_N_PL_DLY</th>\n",
       "      <td>960.3533</td>\n",
       "      <td>-2492.1792</td>\n",
       "      <td>-58670.2454</td>\n",
       "      <td>-16374.8846</td>\n",
       "      <td>11184.8595</td>\n",
       "      <td>183200.5825</td>\n",
       "      <td>29912.1299</td>\n",
       "      <td>2.7789</td>\n",
       "      <td>15.7154</td>\n",
       "      <td>-33331.8968</td>\n",
       "      <td>-48240.7220</td>\n",
       "    </tr>\n",
       "    <tr>\n",
       "      <th>ROI_5_twotier_PL_DLY</th>\n",
       "      <td>-970.4739</td>\n",
       "      <td>559.5363</td>\n",
       "      <td>-112735.4246</td>\n",
       "      <td>-10467.9947</td>\n",
       "      <td>9790.0774</td>\n",
       "      <td>96368.9012</td>\n",
       "      <td>19935.8589</td>\n",
       "      <td>-0.7110</td>\n",
       "      <td>5.5207</td>\n",
       "      <td>-32683.8908</td>\n",
       "      <td>-33762.0436</td>\n",
       "    </tr>\n",
       "    <tr>\n",
       "      <th>DE_21_PL_DLY</th>\n",
       "      <td>-119.3085</td>\n",
       "      <td>3770.5746</td>\n",
       "      <td>-135563.8721</td>\n",
       "      <td>-9578.9590</td>\n",
       "      <td>13574.6453</td>\n",
       "      <td>53396.4190</td>\n",
       "      <td>23713.9464</td>\n",
       "      <td>-2.3231</td>\n",
       "      <td>11.9697</td>\n",
       "      <td>-32410.0750</td>\n",
       "      <td>-39125.2792</td>\n",
       "    </tr>\n",
       "    <tr>\n",
       "      <th>ROI_21_PL_DLY</th>\n",
       "      <td>-1067.3320</td>\n",
       "      <td>1212.2673</td>\n",
       "      <td>-183560.9427</td>\n",
       "      <td>-12544.5498</td>\n",
       "      <td>15451.7114</td>\n",
       "      <td>57972.3971</td>\n",
       "      <td>30194.2071</td>\n",
       "      <td>-2.8224</td>\n",
       "      <td>15.3724</td>\n",
       "      <td>-31639.0193</td>\n",
       "      <td>-50732.3830</td>\n",
       "    </tr>\n",
       "    <tr>\n",
       "      <th>PE_21_twotier_PL_DLY</th>\n",
       "      <td>-36.5049</td>\n",
       "      <td>33.6478</td>\n",
       "      <td>-44944.1144</td>\n",
       "      <td>-13608.6363</td>\n",
       "      <td>13018.2332</td>\n",
       "      <td>48265.3593</td>\n",
       "      <td>18227.7200</td>\n",
       "      <td>0.0076</td>\n",
       "      <td>-0.0871</td>\n",
       "      <td>-30971.7552</td>\n",
       "      <td>-30018.4363</td>\n",
       "    </tr>\n",
       "    <tr>\n",
       "      <th>ROIPE_21_PL_DLY</th>\n",
       "      <td>-5550.1434</td>\n",
       "      <td>-4544.7713</td>\n",
       "      <td>-74263.3820</td>\n",
       "      <td>-12259.3070</td>\n",
       "      <td>3178.1859</td>\n",
       "      <td>44546.3469</td>\n",
       "      <td>16290.6047</td>\n",
       "      <td>-0.9608</td>\n",
       "      <td>4.4915</td>\n",
       "      <td>-27971.5262</td>\n",
       "      <td>-32345.8037</td>\n",
       "    </tr>\n",
       "    <tr>\n",
       "      <th>ROI_5_twotier_N_PL_DLY</th>\n",
       "      <td>1065.0887</td>\n",
       "      <td>-477.9445</td>\n",
       "      <td>-95181.5184</td>\n",
       "      <td>-9599.5802</td>\n",
       "      <td>10401.5197</td>\n",
       "      <td>111947.0251</td>\n",
       "      <td>19886.9614</td>\n",
       "      <td>0.7230</td>\n",
       "      <td>5.3263</td>\n",
       "      <td>-23289.9364</td>\n",
       "      <td>-31646.0519</td>\n",
       "    </tr>\n",
       "    <tr>\n",
       "      <th>ROIPE_21_twotier_N_PL_DLY</th>\n",
       "      <td>8118.4643</td>\n",
       "      <td>4528.2831</td>\n",
       "      <td>-96095.0735</td>\n",
       "      <td>-4934.7047</td>\n",
       "      <td>16627.8943</td>\n",
       "      <td>140697.0357</td>\n",
       "      <td>28016.7121</td>\n",
       "      <td>1.1499</td>\n",
       "      <td>7.4937</td>\n",
       "      <td>-21674.1927</td>\n",
       "      <td>-37964.9262</td>\n",
       "    </tr>\n",
       "    <tr>\n",
       "      <th>ROI_5_PL_DLY</th>\n",
       "      <td>-170.1120</td>\n",
       "      <td>144.4709</td>\n",
       "      <td>-81833.0607</td>\n",
       "      <td>-5857.7002</td>\n",
       "      <td>6818.9941</td>\n",
       "      <td>51566.5561</td>\n",
       "      <td>12474.7229</td>\n",
       "      <td>-1.2370</td>\n",
       "      <td>7.4159</td>\n",
       "      <td>-20864.6907</td>\n",
       "      <td>-20689.2052</td>\n",
       "    </tr>\n",
       "    <tr>\n",
       "      <th>DE_5_twotier_PL_DLY</th>\n",
       "      <td>244.7797</td>\n",
       "      <td>0.0000</td>\n",
       "      <td>-43504.5901</td>\n",
       "      <td>-6697.6795</td>\n",
       "      <td>6225.2507</td>\n",
       "      <td>67982.9169</td>\n",
       "      <td>12713.9556</td>\n",
       "      <td>0.6376</td>\n",
       "      <td>3.9636</td>\n",
       "      <td>-19931.2283</td>\n",
       "      <td>-20667.8162</td>\n",
       "    </tr>\n",
       "    <tr>\n",
       "      <th>PE_21_PL_DLY</th>\n",
       "      <td>1314.0695</td>\n",
       "      <td>1558.4617</td>\n",
       "      <td>-31640.5908</td>\n",
       "      <td>-6159.7770</td>\n",
       "      <td>9817.5576</td>\n",
       "      <td>31473.8549</td>\n",
       "      <td>13175.2946</td>\n",
       "      <td>-0.1807</td>\n",
       "      <td>0.1939</td>\n",
       "      <td>-19767.9287</td>\n",
       "      <td>-20357.3616</td>\n",
       "    </tr>\n",
       "    <tr>\n",
       "      <th>ROIPE_5_twotier_PL_DLY</th>\n",
       "      <td>-2144.0408</td>\n",
       "      <td>-1407.9659</td>\n",
       "      <td>-49258.3518</td>\n",
       "      <td>-6657.5985</td>\n",
       "      <td>4244.3670</td>\n",
       "      <td>27490.9945</td>\n",
       "      <td>10127.6625</td>\n",
       "      <td>-0.8556</td>\n",
       "      <td>2.5499</td>\n",
       "      <td>-19332.5777</td>\n",
       "      <td>-18802.5632</td>\n",
       "    </tr>\n",
       "    <tr>\n",
       "      <th>ROI_5_N_PL_DLY</th>\n",
       "      <td>383.8466</td>\n",
       "      <td>-156.4812</td>\n",
       "      <td>-47893.1404</td>\n",
       "      <td>-6808.6286</td>\n",
       "      <td>5578.8817</td>\n",
       "      <td>80595.4060</td>\n",
       "      <td>12344.6855</td>\n",
       "      <td>1.3371</td>\n",
       "      <td>7.2569</td>\n",
       "      <td>-16645.7231</td>\n",
       "      <td>-19921.3540</td>\n",
       "    </tr>\n",
       "    <tr>\n",
       "      <th>PE_5_twotier_PL_DLY</th>\n",
       "      <td>-631.2396</td>\n",
       "      <td>-342.5021</td>\n",
       "      <td>-32097.6662</td>\n",
       "      <td>-5978.7839</td>\n",
       "      <td>5566.3760</td>\n",
       "      <td>24744.0371</td>\n",
       "      <td>9261.7724</td>\n",
       "      <td>-0.2529</td>\n",
       "      <td>0.6281</td>\n",
       "      <td>-15841.2336</td>\n",
       "      <td>-15865.4995</td>\n",
       "    </tr>\n",
       "    <tr>\n",
       "      <th>ROIPE_5_PL_DLY</th>\n",
       "      <td>-1132.5528</td>\n",
       "      <td>-602.8696</td>\n",
       "      <td>-38603.8160</td>\n",
       "      <td>-4909.0174</td>\n",
       "      <td>3010.1126</td>\n",
       "      <td>31892.2895</td>\n",
       "      <td>7549.0293</td>\n",
       "      <td>-0.4860</td>\n",
       "      <td>3.2677</td>\n",
       "      <td>-12891.8063</td>\n",
       "      <td>-13549.6011</td>\n",
       "    </tr>\n",
       "    <tr>\n",
       "      <th>DE_5_PL_DLY</th>\n",
       "      <td>514.3323</td>\n",
       "      <td>157.8183</td>\n",
       "      <td>-38805.2210</td>\n",
       "      <td>-5134.2289</td>\n",
       "      <td>5263.0479</td>\n",
       "      <td>42600.9757</td>\n",
       "      <td>9083.2418</td>\n",
       "      <td>0.0834</td>\n",
       "      <td>2.6108</td>\n",
       "      <td>-12692.6267</td>\n",
       "      <td>-14426.2709</td>\n",
       "    </tr>\n",
       "    <tr>\n",
       "      <th>PE_5_PL_DLY</th>\n",
       "      <td>296.3944</td>\n",
       "      <td>216.9643</td>\n",
       "      <td>-28114.5741</td>\n",
       "      <td>-3467.3291</td>\n",
       "      <td>4059.6154</td>\n",
       "      <td>42652.1744</td>\n",
       "      <td>7299.0973</td>\n",
       "      <td>0.3222</td>\n",
       "      <td>4.3341</td>\n",
       "      <td>-11645.7181</td>\n",
       "      <td>-11709.5522</td>\n",
       "    </tr>\n",
       "    <tr>\n",
       "      <th>ROIPE_5_twotier_N_PL_DLY</th>\n",
       "      <td>2224.0685</td>\n",
       "      <td>1462.1608</td>\n",
       "      <td>-27090.7299</td>\n",
       "      <td>-3813.2850</td>\n",
       "      <td>6956.9979</td>\n",
       "      <td>51560.2317</td>\n",
       "      <td>10084.3932</td>\n",
       "      <td>0.9181</td>\n",
       "      <td>2.8200</td>\n",
       "      <td>-11308.7620</td>\n",
       "      <td>-14363.2822</td>\n",
       "    </tr>\n",
       "  </tbody>\n",
       "</table>\n",
       "</div>"
      ],
      "text/plain": [
       "                                Mean     Median          Min  25% Quantile  \\\n",
       "ROI_21_twotier_PL_DLY     -7177.5498     0.0000 -228270.3586   -25549.8277   \n",
       "ROIPE_21_twotier_PL_DLY   -7572.2494 -3848.6981 -139443.5389   -17938.9564   \n",
       "ROI_21_twotier_N_PL_DLY    7317.7546     0.0000  -93586.1320   -18847.6280   \n",
       "DE_21_twotier_PL_DLY        552.3848   527.3378 -110728.8091   -19200.4202   \n",
       "ROI_21_N_PL_DLY             960.3533 -2492.1792  -58670.2454   -16374.8846   \n",
       "ROI_5_twotier_PL_DLY       -970.4739   559.5363 -112735.4246   -10467.9947   \n",
       "DE_21_PL_DLY               -119.3085  3770.5746 -135563.8721    -9578.9590   \n",
       "ROI_21_PL_DLY             -1067.3320  1212.2673 -183560.9427   -12544.5498   \n",
       "PE_21_twotier_PL_DLY        -36.5049    33.6478  -44944.1144   -13608.6363   \n",
       "ROIPE_21_PL_DLY           -5550.1434 -4544.7713  -74263.3820   -12259.3070   \n",
       "ROI_5_twotier_N_PL_DLY     1065.0887  -477.9445  -95181.5184    -9599.5802   \n",
       "ROIPE_21_twotier_N_PL_DLY  8118.4643  4528.2831  -96095.0735    -4934.7047   \n",
       "ROI_5_PL_DLY               -170.1120   144.4709  -81833.0607    -5857.7002   \n",
       "DE_5_twotier_PL_DLY         244.7797     0.0000  -43504.5901    -6697.6795   \n",
       "PE_21_PL_DLY               1314.0695  1558.4617  -31640.5908    -6159.7770   \n",
       "ROIPE_5_twotier_PL_DLY    -2144.0408 -1407.9659  -49258.3518    -6657.5985   \n",
       "ROI_5_N_PL_DLY              383.8466  -156.4812  -47893.1404    -6808.6286   \n",
       "PE_5_twotier_PL_DLY        -631.2396  -342.5021  -32097.6662    -5978.7839   \n",
       "ROIPE_5_PL_DLY            -1132.5528  -602.8696  -38603.8160    -4909.0174   \n",
       "DE_5_PL_DLY                 514.3323   157.8183  -38805.2210    -5134.2289   \n",
       "PE_5_PL_DLY                 296.3944   216.9643  -28114.5741    -3467.3291   \n",
       "ROIPE_5_twotier_N_PL_DLY   2224.0685  1462.1608  -27090.7299    -3813.2850   \n",
       "\n",
       "                           75% Quantile          Max    $\\sigma$  Skewness  \\\n",
       "ROI_21_twotier_PL_DLY        20539.1239   93491.6876  50253.3104   -1.5726   \n",
       "ROIPE_21_twotier_PL_DLY       5947.3602   90828.3711  27067.8440   -1.2000   \n",
       "ROI_21_twotier_N_PL_DLY      26211.1014  232107.4599  50671.7460    1.6329   \n",
       "DE_21_twotier_PL_DLY         17505.2596   72105.5598  28545.8790   -0.4191   \n",
       "ROI_21_N_PL_DLY              11184.8595  183200.5825  29912.1299    2.7789   \n",
       "ROI_5_twotier_PL_DLY          9790.0774   96368.9012  19935.8589   -0.7110   \n",
       "DE_21_PL_DLY                 13574.6453   53396.4190  23713.9464   -2.3231   \n",
       "ROI_21_PL_DLY                15451.7114   57972.3971  30194.2071   -2.8224   \n",
       "PE_21_twotier_PL_DLY         13018.2332   48265.3593  18227.7200    0.0076   \n",
       "ROIPE_21_PL_DLY               3178.1859   44546.3469  16290.6047   -0.9608   \n",
       "ROI_5_twotier_N_PL_DLY       10401.5197  111947.0251  19886.9614    0.7230   \n",
       "ROIPE_21_twotier_N_PL_DLY    16627.8943  140697.0357  28016.7121    1.1499   \n",
       "ROI_5_PL_DLY                  6818.9941   51566.5561  12474.7229   -1.2370   \n",
       "DE_5_twotier_PL_DLY           6225.2507   67982.9169  12713.9556    0.6376   \n",
       "PE_21_PL_DLY                  9817.5576   31473.8549  13175.2946   -0.1807   \n",
       "ROIPE_5_twotier_PL_DLY        4244.3670   27490.9945  10127.6625   -0.8556   \n",
       "ROI_5_N_PL_DLY                5578.8817   80595.4060  12344.6855    1.3371   \n",
       "PE_5_twotier_PL_DLY           5566.3760   24744.0371   9261.7724   -0.2529   \n",
       "ROIPE_5_PL_DLY                3010.1126   31892.2895   7549.0293   -0.4860   \n",
       "DE_5_PL_DLY                   5263.0479   42600.9757   9083.2418    0.0834   \n",
       "PE_5_PL_DLY                   4059.6154   42652.1744   7299.0973    0.3222   \n",
       "ROIPE_5_twotier_N_PL_DLY      6956.9979   51560.2317  10084.3932    0.9181   \n",
       "\n",
       "                           Excess Kurtosis  VaR (Quantile 0.05)  VaR (Normal)  \n",
       "ROI_21_twotier_PL_DLY               4.9082          -83298.3942   -89836.8897  \n",
       "ROIPE_21_twotier_PL_DLY             7.7851          -58631.7011   -52094.8909  \n",
       "ROI_21_twotier_N_PL_DLY             5.1571          -50051.3727   -76029.8506  \n",
       "DE_21_twotier_PL_DLY                1.8041          -40039.3500   -46401.4078  \n",
       "ROI_21_N_PL_DLY                    15.7154          -33331.8968   -48240.7220  \n",
       "ROI_5_twotier_PL_DLY                5.5207          -32683.8908   -33762.0436  \n",
       "DE_21_PL_DLY                       11.9697          -32410.0750   -39125.2792  \n",
       "ROI_21_PL_DLY                      15.3724          -31639.0193   -50732.3830  \n",
       "PE_21_twotier_PL_DLY               -0.0871          -30971.7552   -30018.4363  \n",
       "ROIPE_21_PL_DLY                     4.4915          -27971.5262   -32345.8037  \n",
       "ROI_5_twotier_N_PL_DLY              5.3263          -23289.9364   -31646.0519  \n",
       "ROIPE_21_twotier_N_PL_DLY           7.4937          -21674.1927   -37964.9262  \n",
       "ROI_5_PL_DLY                        7.4159          -20864.6907   -20689.2052  \n",
       "DE_5_twotier_PL_DLY                 3.9636          -19931.2283   -20667.8162  \n",
       "PE_21_PL_DLY                        0.1939          -19767.9287   -20357.3616  \n",
       "ROIPE_5_twotier_PL_DLY              2.5499          -19332.5777   -18802.5632  \n",
       "ROI_5_N_PL_DLY                      7.2569          -16645.7231   -19921.3540  \n",
       "PE_5_twotier_PL_DLY                 0.6281          -15841.2336   -15865.4995  \n",
       "ROIPE_5_PL_DLY                      3.2677          -12891.8063   -13549.6011  \n",
       "DE_5_PL_DLY                         2.6108          -12692.6267   -14426.2709  \n",
       "PE_5_PL_DLY                         4.3341          -11645.7181   -11709.5522  \n",
       "ROIPE_5_twotier_N_PL_DLY            2.8200          -11308.7620   -14363.2822  "
      ]
     },
     "execution_count": 63,
     "metadata": {},
     "output_type": "execute_result"
    }
   ],
   "source": [
    "stats(StrategyList, StrategyListStr, 'Stats').sort_values('VaR (Quantile 0.05)')"
   ]
  },
  {
   "cell_type": "markdown",
   "id": "8fd9801e",
   "metadata": {},
   "source": [
    "##### Drawdown Statistics for Returns (NOT Annualized)"
   ]
  },
  {
   "cell_type": "markdown",
   "id": "82f943c4",
   "metadata": {},
   "source": [
    "Again, the ROI two-tier strategies are the worst performers. The PE strategies show the lowest drawdowns, including Single Largest Drawdowns. In terms of a \"safe\" strategy, PE and PE two-tier appear to be the most consistent in delivering low but safe and consistent returns."
   ]
  },
  {
   "cell_type": "code",
   "execution_count": 64,
   "id": "3ded28f7",
   "metadata": {},
   "outputs": [
    {
     "data": {
      "text/html": [
       "<div>\n",
       "<style scoped>\n",
       "    .dataframe tbody tr th:only-of-type {\n",
       "        vertical-align: middle;\n",
       "    }\n",
       "\n",
       "    .dataframe tbody tr th {\n",
       "        vertical-align: top;\n",
       "    }\n",
       "\n",
       "    .dataframe thead th {\n",
       "        text-align: right;\n",
       "    }\n",
       "</style>\n",
       "<table border=\"1\" class=\"dataframe\">\n",
       "  <thead>\n",
       "    <tr style=\"text-align: right;\">\n",
       "      <th></th>\n",
       "      <th>Expected Shortfall</th>\n",
       "      <th>Expected Shortfall (Normal)</th>\n",
       "      <th>Max Drawdown</th>\n",
       "      <th>MDD Start</th>\n",
       "      <th>MDD End</th>\n",
       "      <th>Recovery Date</th>\n",
       "      <th>Single Largest Drawdown</th>\n",
       "      <th>Single Largest Drawdown Date</th>\n",
       "      <th>Recovery period (days)</th>\n",
       "    </tr>\n",
       "  </thead>\n",
       "  <tbody>\n",
       "    <tr>\n",
       "      <th>ROIPE_5_twotier_Ret_DLY</th>\n",
       "      <td>-0.003053</td>\n",
       "      <td>-0.002417</td>\n",
       "      <td>-0.079645</td>\n",
       "      <td>2014-01-16</td>\n",
       "      <td>2021-01-21</td>\n",
       "      <td>None</td>\n",
       "      <td>-0.005292</td>\n",
       "      <td>2020-11-13</td>\n",
       "      <td>NaN</td>\n",
       "    </tr>\n",
       "    <tr>\n",
       "      <th>ROI_21_twotier_Ret_DLY</th>\n",
       "      <td>-0.014885</td>\n",
       "      <td>-0.011451</td>\n",
       "      <td>-0.06828</td>\n",
       "      <td>2014-10-31</td>\n",
       "      <td>2021-01-05</td>\n",
       "      <td>None</td>\n",
       "      <td>-0.023831</td>\n",
       "      <td>2020-12-03</td>\n",
       "      <td>NaN</td>\n",
       "    </tr>\n",
       "    <tr>\n",
       "      <th>ROIPE_21_twotier_Ret_DLY</th>\n",
       "      <td>-0.00829</td>\n",
       "      <td>-0.006677</td>\n",
       "      <td>-0.067995</td>\n",
       "      <td>2014-02-03</td>\n",
       "      <td>2020-05-06</td>\n",
       "      <td>None</td>\n",
       "      <td>-0.01434</td>\n",
       "      <td>2016-03-04</td>\n",
       "      <td>NaN</td>\n",
       "    </tr>\n",
       "    <tr>\n",
       "      <th>ROI_5_twotier_Ret_DLY</th>\n",
       "      <td>-0.005299</td>\n",
       "      <td>-0.004241</td>\n",
       "      <td>-0.054569</td>\n",
       "      <td>2016-01-12</td>\n",
       "      <td>2021-01-21</td>\n",
       "      <td>None</td>\n",
       "      <td>-0.011458</td>\n",
       "      <td>2020-11-13</td>\n",
       "      <td>NaN</td>\n",
       "    </tr>\n",
       "    <tr>\n",
       "      <th>ROIPE_21_Ret_DLY</th>\n",
       "      <td>-0.00497</td>\n",
       "      <td>-0.004062</td>\n",
       "      <td>-0.047275</td>\n",
       "      <td>2014-02-03</td>\n",
       "      <td>2020-12-03</td>\n",
       "      <td>None</td>\n",
       "      <td>-0.007615</td>\n",
       "      <td>2016-05-04</td>\n",
       "      <td>NaN</td>\n",
       "    </tr>\n",
       "    <tr>\n",
       "      <th>ROIPE_5_Ret_DLY</th>\n",
       "      <td>-0.001993</td>\n",
       "      <td>-0.001721</td>\n",
       "      <td>-0.043578</td>\n",
       "      <td>2014-01-16</td>\n",
       "      <td>2020-12-07</td>\n",
       "      <td>None</td>\n",
       "      <td>-0.004018</td>\n",
       "      <td>2020-11-13</td>\n",
       "      <td>NaN</td>\n",
       "    </tr>\n",
       "    <tr>\n",
       "      <th>ROI_5_twotier_N_Ret_DLY</th>\n",
       "      <td>-0.003819</td>\n",
       "      <td>-0.003974</td>\n",
       "      <td>-0.032069</td>\n",
       "      <td>2019-12-24</td>\n",
       "      <td>2020-04-06</td>\n",
       "      <td>2020-08-13</td>\n",
       "      <td>-0.009421</td>\n",
       "      <td>2020-03-09</td>\n",
       "      <td>233</td>\n",
       "    </tr>\n",
       "    <tr>\n",
       "      <th>ROI_5_Ret_DLY</th>\n",
       "      <td>-0.003223</td>\n",
       "      <td>-0.002572</td>\n",
       "      <td>-0.027981</td>\n",
       "      <td>2019-06-06</td>\n",
       "      <td>2021-01-13</td>\n",
       "      <td>None</td>\n",
       "      <td>-0.00813</td>\n",
       "      <td>2020-11-13</td>\n",
       "      <td>NaN</td>\n",
       "    </tr>\n",
       "    <tr>\n",
       "      <th>PE_5_twotier_Ret_DLY</th>\n",
       "      <td>-0.002251</td>\n",
       "      <td>-0.001996</td>\n",
       "      <td>-0.026824</td>\n",
       "      <td>2014-11-07</td>\n",
       "      <td>2021-01-13</td>\n",
       "      <td>None</td>\n",
       "      <td>-0.003239</td>\n",
       "      <td>2015-11-19</td>\n",
       "      <td>NaN</td>\n",
       "    </tr>\n",
       "    <tr>\n",
       "      <th>ROI_21_Ret_DLY</th>\n",
       "      <td>-0.008214</td>\n",
       "      <td>-0.006341</td>\n",
       "      <td>-0.026296</td>\n",
       "      <td>2019-06-06</td>\n",
       "      <td>2021-01-05</td>\n",
       "      <td>None</td>\n",
       "      <td>-0.01831</td>\n",
       "      <td>2020-12-03</td>\n",
       "      <td>NaN</td>\n",
       "    </tr>\n",
       "    <tr>\n",
       "      <th>ROI_21_twotier_N_Ret_DLY</th>\n",
       "      <td>-0.007083</td>\n",
       "      <td>-0.009534</td>\n",
       "      <td>-0.022757</td>\n",
       "      <td>2020-01-06</td>\n",
       "      <td>2020-04-06</td>\n",
       "      <td>2020-09-03</td>\n",
       "      <td>-0.009102</td>\n",
       "      <td>2020-03-06</td>\n",
       "      <td>241</td>\n",
       "    </tr>\n",
       "    <tr>\n",
       "      <th>DE_21_Ret_DLY</th>\n",
       "      <td>-0.00607</td>\n",
       "      <td>-0.004891</td>\n",
       "      <td>-0.021109</td>\n",
       "      <td>2020-04-06</td>\n",
       "      <td>2021-01-05</td>\n",
       "      <td>None</td>\n",
       "      <td>-0.013446</td>\n",
       "      <td>2020-06-05</td>\n",
       "      <td>NaN</td>\n",
       "    </tr>\n",
       "    <tr>\n",
       "      <th>ROI_5_N_Ret_DLY</th>\n",
       "      <td>-0.002222</td>\n",
       "      <td>-0.002523</td>\n",
       "      <td>-0.020777</td>\n",
       "      <td>2014-01-24</td>\n",
       "      <td>2016-01-12</td>\n",
       "      <td>2020-08-13</td>\n",
       "      <td>-0.00482</td>\n",
       "      <td>2020-03-09</td>\n",
       "      <td>2393</td>\n",
       "    </tr>\n",
       "    <tr>\n",
       "      <th>ROI_21_N_Ret_DLY</th>\n",
       "      <td>-0.004492</td>\n",
       "      <td>-0.006153</td>\n",
       "      <td>-0.019984</td>\n",
       "      <td>2014-02-03</td>\n",
       "      <td>2019-06-06</td>\n",
       "      <td>2020-12-03</td>\n",
       "      <td>-0.00591</td>\n",
       "      <td>2017-03-06</td>\n",
       "      <td>2495</td>\n",
       "    </tr>\n",
       "    <tr>\n",
       "      <th>DE_5_twotier_Ret_DLY</th>\n",
       "      <td>-0.002672</td>\n",
       "      <td>-0.002589</td>\n",
       "      <td>-0.016067</td>\n",
       "      <td>2018-12-27</td>\n",
       "      <td>2019-07-26</td>\n",
       "      <td>2020-03-30</td>\n",
       "      <td>-0.00427</td>\n",
       "      <td>2020-06-10</td>\n",
       "      <td>459</td>\n",
       "    </tr>\n",
       "    <tr>\n",
       "      <th>DE_21_twotier_Ret_DLY</th>\n",
       "      <td>-0.005714</td>\n",
       "      <td>-0.005831</td>\n",
       "      <td>-0.015685</td>\n",
       "      <td>2020-05-06</td>\n",
       "      <td>2021-01-05</td>\n",
       "      <td>None</td>\n",
       "      <td>-0.010908</td>\n",
       "      <td>2020-06-05</td>\n",
       "      <td>NaN</td>\n",
       "    </tr>\n",
       "    <tr>\n",
       "      <th>DE_5_Ret_DLY</th>\n",
       "      <td>-0.001961</td>\n",
       "      <td>-0.001804</td>\n",
       "      <td>-0.012094</td>\n",
       "      <td>2020-04-06</td>\n",
       "      <td>2020-08-13</td>\n",
       "      <td>None</td>\n",
       "      <td>-0.003792</td>\n",
       "      <td>2020-04-14</td>\n",
       "      <td>NaN</td>\n",
       "    </tr>\n",
       "    <tr>\n",
       "      <th>PE_5_Ret_DLY</th>\n",
       "      <td>-0.001571</td>\n",
       "      <td>-0.001464</td>\n",
       "      <td>-0.009046</td>\n",
       "      <td>2015-01-29</td>\n",
       "      <td>2016-06-20</td>\n",
       "      <td>2018-03-13</td>\n",
       "      <td>-0.002769</td>\n",
       "      <td>2019-09-09</td>\n",
       "      <td>1139</td>\n",
       "    </tr>\n",
       "    <tr>\n",
       "      <th>ROIPE_21_twotier_N_Ret_DLY</th>\n",
       "      <td>-0.004147</td>\n",
       "      <td>-0.004755</td>\n",
       "      <td>-0.009003</td>\n",
       "      <td>2020-05-06</td>\n",
       "      <td>2020-06-05</td>\n",
       "      <td>None</td>\n",
       "      <td>-0.009003</td>\n",
       "      <td>2020-06-05</td>\n",
       "      <td>NaN</td>\n",
       "    </tr>\n",
       "    <tr>\n",
       "      <th>PE_21_twotier_Ret_DLY</th>\n",
       "      <td>-0.003534</td>\n",
       "      <td>-0.003776</td>\n",
       "      <td>-0.008874</td>\n",
       "      <td>2018-02-02</td>\n",
       "      <td>2020-07-07</td>\n",
       "      <td>None</td>\n",
       "      <td>-0.00448</td>\n",
       "      <td>2019-11-04</td>\n",
       "      <td>NaN</td>\n",
       "    </tr>\n",
       "    <tr>\n",
       "      <th>PE_21_Ret_DLY</th>\n",
       "      <td>-0.002715</td>\n",
       "      <td>-0.002584</td>\n",
       "      <td>-0.008438</td>\n",
       "      <td>2015-02-03</td>\n",
       "      <td>2017-02-02</td>\n",
       "      <td>2019-01-04</td>\n",
       "      <td>-0.003129</td>\n",
       "      <td>2019-11-04</td>\n",
       "      <td>1431</td>\n",
       "    </tr>\n",
       "    <tr>\n",
       "      <th>ROIPE_5_twotier_N_Ret_DLY</th>\n",
       "      <td>-0.001557</td>\n",
       "      <td>-0.001777</td>\n",
       "      <td>-0.006947</td>\n",
       "      <td>2017-01-24</td>\n",
       "      <td>2017-04-20</td>\n",
       "      <td>2017-06-02</td>\n",
       "      <td>-0.002589</td>\n",
       "      <td>2018-12-12</td>\n",
       "      <td>129</td>\n",
       "    </tr>\n",
       "  </tbody>\n",
       "</table>\n",
       "</div>"
      ],
      "text/plain": [
       "                           Expected Shortfall Expected Shortfall (Normal)  \\\n",
       "ROIPE_5_twotier_Ret_DLY             -0.003053                   -0.002417   \n",
       "ROI_21_twotier_Ret_DLY              -0.014885                   -0.011451   \n",
       "ROIPE_21_twotier_Ret_DLY             -0.00829                   -0.006677   \n",
       "ROI_5_twotier_Ret_DLY               -0.005299                   -0.004241   \n",
       "ROIPE_21_Ret_DLY                     -0.00497                   -0.004062   \n",
       "ROIPE_5_Ret_DLY                     -0.001993                   -0.001721   \n",
       "ROI_5_twotier_N_Ret_DLY             -0.003819                   -0.003974   \n",
       "ROI_5_Ret_DLY                       -0.003223                   -0.002572   \n",
       "PE_5_twotier_Ret_DLY                -0.002251                   -0.001996   \n",
       "ROI_21_Ret_DLY                      -0.008214                   -0.006341   \n",
       "ROI_21_twotier_N_Ret_DLY            -0.007083                   -0.009534   \n",
       "DE_21_Ret_DLY                        -0.00607                   -0.004891   \n",
       "ROI_5_N_Ret_DLY                     -0.002222                   -0.002523   \n",
       "ROI_21_N_Ret_DLY                    -0.004492                   -0.006153   \n",
       "DE_5_twotier_Ret_DLY                -0.002672                   -0.002589   \n",
       "DE_21_twotier_Ret_DLY               -0.005714                   -0.005831   \n",
       "DE_5_Ret_DLY                        -0.001961                   -0.001804   \n",
       "PE_5_Ret_DLY                        -0.001571                   -0.001464   \n",
       "ROIPE_21_twotier_N_Ret_DLY          -0.004147                   -0.004755   \n",
       "PE_21_twotier_Ret_DLY               -0.003534                   -0.003776   \n",
       "PE_21_Ret_DLY                       -0.002715                   -0.002584   \n",
       "ROIPE_5_twotier_N_Ret_DLY           -0.001557                   -0.001777   \n",
       "\n",
       "                           Max Drawdown   MDD Start     MDD End Recovery Date  \\\n",
       "ROIPE_5_twotier_Ret_DLY       -0.079645  2014-01-16  2021-01-21          None   \n",
       "ROI_21_twotier_Ret_DLY         -0.06828  2014-10-31  2021-01-05          None   \n",
       "ROIPE_21_twotier_Ret_DLY      -0.067995  2014-02-03  2020-05-06          None   \n",
       "ROI_5_twotier_Ret_DLY         -0.054569  2016-01-12  2021-01-21          None   \n",
       "ROIPE_21_Ret_DLY              -0.047275  2014-02-03  2020-12-03          None   \n",
       "ROIPE_5_Ret_DLY               -0.043578  2014-01-16  2020-12-07          None   \n",
       "ROI_5_twotier_N_Ret_DLY       -0.032069  2019-12-24  2020-04-06    2020-08-13   \n",
       "ROI_5_Ret_DLY                 -0.027981  2019-06-06  2021-01-13          None   \n",
       "PE_5_twotier_Ret_DLY          -0.026824  2014-11-07  2021-01-13          None   \n",
       "ROI_21_Ret_DLY                -0.026296  2019-06-06  2021-01-05          None   \n",
       "ROI_21_twotier_N_Ret_DLY      -0.022757  2020-01-06  2020-04-06    2020-09-03   \n",
       "DE_21_Ret_DLY                 -0.021109  2020-04-06  2021-01-05          None   \n",
       "ROI_5_N_Ret_DLY               -0.020777  2014-01-24  2016-01-12    2020-08-13   \n",
       "ROI_21_N_Ret_DLY              -0.019984  2014-02-03  2019-06-06    2020-12-03   \n",
       "DE_5_twotier_Ret_DLY          -0.016067  2018-12-27  2019-07-26    2020-03-30   \n",
       "DE_21_twotier_Ret_DLY         -0.015685  2020-05-06  2021-01-05          None   \n",
       "DE_5_Ret_DLY                  -0.012094  2020-04-06  2020-08-13          None   \n",
       "PE_5_Ret_DLY                  -0.009046  2015-01-29  2016-06-20    2018-03-13   \n",
       "ROIPE_21_twotier_N_Ret_DLY    -0.009003  2020-05-06  2020-06-05          None   \n",
       "PE_21_twotier_Ret_DLY         -0.008874  2018-02-02  2020-07-07          None   \n",
       "PE_21_Ret_DLY                 -0.008438  2015-02-03  2017-02-02    2019-01-04   \n",
       "ROIPE_5_twotier_N_Ret_DLY     -0.006947  2017-01-24  2017-04-20    2017-06-02   \n",
       "\n",
       "                           Single Largest Drawdown  \\\n",
       "ROIPE_5_twotier_Ret_DLY                  -0.005292   \n",
       "ROI_21_twotier_Ret_DLY                   -0.023831   \n",
       "ROIPE_21_twotier_Ret_DLY                  -0.01434   \n",
       "ROI_5_twotier_Ret_DLY                    -0.011458   \n",
       "ROIPE_21_Ret_DLY                         -0.007615   \n",
       "ROIPE_5_Ret_DLY                          -0.004018   \n",
       "ROI_5_twotier_N_Ret_DLY                  -0.009421   \n",
       "ROI_5_Ret_DLY                             -0.00813   \n",
       "PE_5_twotier_Ret_DLY                     -0.003239   \n",
       "ROI_21_Ret_DLY                            -0.01831   \n",
       "ROI_21_twotier_N_Ret_DLY                 -0.009102   \n",
       "DE_21_Ret_DLY                            -0.013446   \n",
       "ROI_5_N_Ret_DLY                           -0.00482   \n",
       "ROI_21_N_Ret_DLY                          -0.00591   \n",
       "DE_5_twotier_Ret_DLY                      -0.00427   \n",
       "DE_21_twotier_Ret_DLY                    -0.010908   \n",
       "DE_5_Ret_DLY                             -0.003792   \n",
       "PE_5_Ret_DLY                             -0.002769   \n",
       "ROIPE_21_twotier_N_Ret_DLY               -0.009003   \n",
       "PE_21_twotier_Ret_DLY                     -0.00448   \n",
       "PE_21_Ret_DLY                            -0.003129   \n",
       "ROIPE_5_twotier_N_Ret_DLY                -0.002589   \n",
       "\n",
       "                           Single Largest Drawdown Date Recovery period (days)  \n",
       "ROIPE_5_twotier_Ret_DLY                      2020-11-13                    NaN  \n",
       "ROI_21_twotier_Ret_DLY                       2020-12-03                    NaN  \n",
       "ROIPE_21_twotier_Ret_DLY                     2016-03-04                    NaN  \n",
       "ROI_5_twotier_Ret_DLY                        2020-11-13                    NaN  \n",
       "ROIPE_21_Ret_DLY                             2016-05-04                    NaN  \n",
       "ROIPE_5_Ret_DLY                              2020-11-13                    NaN  \n",
       "ROI_5_twotier_N_Ret_DLY                      2020-03-09                    233  \n",
       "ROI_5_Ret_DLY                                2020-11-13                    NaN  \n",
       "PE_5_twotier_Ret_DLY                         2015-11-19                    NaN  \n",
       "ROI_21_Ret_DLY                               2020-12-03                    NaN  \n",
       "ROI_21_twotier_N_Ret_DLY                     2020-03-06                    241  \n",
       "DE_21_Ret_DLY                                2020-06-05                    NaN  \n",
       "ROI_5_N_Ret_DLY                              2020-03-09                   2393  \n",
       "ROI_21_N_Ret_DLY                             2017-03-06                   2495  \n",
       "DE_5_twotier_Ret_DLY                         2020-06-10                    459  \n",
       "DE_21_twotier_Ret_DLY                        2020-06-05                    NaN  \n",
       "DE_5_Ret_DLY                                 2020-04-14                    NaN  \n",
       "PE_5_Ret_DLY                                 2019-09-09                   1139  \n",
       "ROIPE_21_twotier_N_Ret_DLY                   2020-06-05                    NaN  \n",
       "PE_21_twotier_Ret_DLY                        2019-11-04                    NaN  \n",
       "PE_21_Ret_DLY                                2019-11-04                   1431  \n",
       "ROIPE_5_twotier_N_Ret_DLY                    2018-12-12                    129  "
      ]
     },
     "execution_count": 64,
     "metadata": {},
     "output_type": "execute_result"
    }
   ],
   "source": [
    "stats(StrategyList, StrategyListStr, 'Tail Risk').sort_values('Max Drawdown')"
   ]
  },
  {
   "cell_type": "markdown",
   "id": "7b3fade7",
   "metadata": {},
   "source": [
    "##### Turnover Rates"
   ]
  },
  {
   "cell_type": "markdown",
   "id": "19acd2d2",
   "metadata": {},
   "source": [
    "The below box and whisker plots show the trade turnover per rebalance per strategy. Although this is not important for this particular analysis given zero costs are assumed, this will become a significant factor in further applications. It appears that monthly rebalancing results in less trades per rebalance, which is interesting given one would expect there to be more changes in the make-up over the course of one month than one week. This data suggests that these ratios are very volatile in shorter periods, but ratios tend to come back in line over extended periods of time. This is an important and unexpected observation. For both monthly and weekly strategies, it appears that DE ratios result in the most trades - while all of the other strategies tend to result in the same amount of rebalancing."
   ]
  },
  {
   "cell_type": "code",
   "execution_count": 249,
   "id": "c8cde8a1",
   "metadata": {
    "scrolled": false
   },
   "outputs": [
    {
     "data": {
      "image/png": "[encoded data removed]",
      "text/plain": [
       "<Figure size 1080x360 with 1 Axes>"
      ]
     },
     "metadata": {
      "needs_background": "light"
     },
     "output_type": "display_data"
    }
   ],
   "source": [
    "PlotTrades(StrategyList_M,StrategyList_MStr)"
   ]
  },
  {
   "cell_type": "code",
   "execution_count": 250,
   "id": "25ce6397",
   "metadata": {},
   "outputs": [
    {
     "data": {
      "image/png": "[encoded data removed]",
      "text/plain": [
       "<Figure size 1080x360 with 1 Axes>"
      ]
     },
     "metadata": {
      "needs_background": "light"
     },
     "output_type": "display_data"
    }
   ],
   "source": [
    "PlotTrades(StrategyList_W,StrategyList_WStr)"
   ]
  },
  {
   "cell_type": "markdown",
   "id": "0d9f29fb",
   "metadata": {},
   "source": [
    "###  Conclusion"
   ]
  },
  {
   "cell_type": "markdown",
   "id": "836beb83",
   "metadata": {},
   "source": [
    "Overall, it appears that quantile trading can be effective in executing a view that one has using a ratio or parameter of choice. Data sourcing and cleaning was especially painful in this case given the huge amount of data and multiple sources, which can be a significant problem when trying to execute strategies on more esoteric parameters. Creation of the strategy was much more difficult than the algorithm for spread trading as well, given that because of the sheer size of data, it is impossible to simply loop through cell by cell using row operators. Exploring vector calculations further will help to more readily create better trading strategies.\n",
    "\n",
    "In terms of the strategies analyzed, buying lower the z-scored combination of ROI and PE using weekly rebalancing is the most profitable. This strategy is closely followed by other strategies related to buying lower ROI. The Sharpe and Sortino ratios for these strategies are significantly high as well. The DE ratio did not have any exemplar results, while PE ratio strategies are effective in providing relatively low returns with low risk - the drawdown numbers for PE were consistently lower than for any other strategy.\n",
    "\n",
    "With regard to further exploration, one parameter that was not experimented with the above analysis was changing the hold-tolerance quantile. Making this very wide would make the portfolio less dynamic and less susceptible to small changes in company performance, while making it more narrow would allow the strategy to update with new \"better\" companies. Another interesting area to look at would be to see how these strategies perform compared to the market - if we take the Information ratio with respect to the market, how does the performance change? Also, how do these strategies line up against, for example, long short hedge funds which may inevitably doing the same thing. Lastly, considering the impact of trading costs - especially in times of market stress, would be of operational concern.\n",
    "\n",
    "The results of this strategy support the view that quantile strategies can be effective - choosing the right signal and direction are essential for this to work, but optimizing supporting parameters such as rebalance frequency and potentially holding boundaries can effectively calibrate the strategies as well."
   ]
  }
 ],
 "metadata": {
  "kernelspec": {
   "display_name": "Python 3",
   "language": "python",
   "name": "python3"
  },
  "language_info": {
   "codemirror_mode": {
    "name": "ipython",
    "version": 3
   },
   "file_extension": ".py",
   "mimetype": "text/x-python",
   "name": "python",
   "nbconvert_exporter": "python",
   "pygments_lexer": "ipython3",
   "version": "3.8.8"
  }
 },
 "nbformat": 4,
 "nbformat_minor": 5
}
